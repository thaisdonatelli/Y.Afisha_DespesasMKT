{
 "cells": [
  {
   "cell_type": "code",
   "execution_count": 1,
   "metadata": {},
   "outputs": [],
   "source": [
    "import pandas as pd\n",
    "import seaborn as sns\n",
    "import matplotlib.pyplot as plt"
   ]
  },
  {
   "cell_type": "code",
   "execution_count": 2,
   "metadata": {},
   "outputs": [],
   "source": [
    "# VISITS LOG\n",
    "visits = pd.read_csv('/datasets/visits_log_us.csv')"
   ]
  },
  {
   "cell_type": "code",
   "execution_count": 3,
   "metadata": {},
   "outputs": [
    {
     "name": "stdout",
     "output_type": "stream",
     "text": [
      "<class 'pandas.core.frame.DataFrame'>\n",
      "RangeIndex: 359400 entries, 0 to 359399\n",
      "Data columns (total 5 columns):\n",
      " #   Column     Non-Null Count   Dtype \n",
      "---  ------     --------------   ----- \n",
      " 0   Device     359400 non-null  object\n",
      " 1   End Ts     359400 non-null  object\n",
      " 2   Source Id  359400 non-null  int64 \n",
      " 3   Start Ts   359400 non-null  object\n",
      " 4   Uid        359400 non-null  uint64\n",
      "dtypes: int64(1), object(3), uint64(1)\n",
      "memory usage: 79.3 MB\n"
     ]
    }
   ],
   "source": [
    "# Descobrindo infos e tamanho do arquivo:\n",
    "visits.info(memory_usage='deep')"
   ]
  },
  {
   "cell_type": "code",
   "execution_count": 4,
   "metadata": {},
   "outputs": [
    {
     "data": {
      "text/plain": [
       "desktop    262567\n",
       "touch       96833\n",
       "Name: Device, dtype: int64"
      ]
     },
     "execution_count": 4,
     "metadata": {},
     "output_type": "execute_result"
    }
   ],
   "source": [
    "# Descobrindo categorias dentro de Device\n",
    "visits['Device'].value_counts()"
   ]
  },
  {
   "cell_type": "code",
   "execution_count": 5,
   "metadata": {},
   "outputs": [],
   "source": [
    "# Mudando de 'object' para 'category'\n",
    "visits['Device'] = visits['Device'].astype('category')\n",
    "\n",
    "# Mudando colunas 'End Ts' e 'Start Ts' para o formato de data e hora:\n",
    "visits['End Ts'] = pd.to_datetime(visits['End Ts'])\n",
    "visits['Start Ts'] = pd.to_datetime(visits['Start Ts'])"
   ]
  },
  {
   "cell_type": "code",
   "execution_count": 6,
   "metadata": {},
   "outputs": [
    {
     "name": "stdout",
     "output_type": "stream",
     "text": [
      "<class 'pandas.core.frame.DataFrame'>\n",
      "RangeIndex: 359400 entries, 0 to 359399\n",
      "Data columns (total 5 columns):\n",
      " #   Column     Non-Null Count   Dtype         \n",
      "---  ------     --------------   -----         \n",
      " 0   Device     359400 non-null  category      \n",
      " 1   End Ts     359400 non-null  datetime64[ns]\n",
      " 2   Source Id  359400 non-null  int64         \n",
      " 3   Start Ts   359400 non-null  datetime64[ns]\n",
      " 4   Uid        359400 non-null  uint64        \n",
      "dtypes: category(1), datetime64[ns](2), int64(1), uint64(1)\n",
      "memory usage: 11.3 MB\n"
     ]
    }
   ],
   "source": [
    "# Conferindo mudanças:\n",
    "\n",
    "visits.info(memory_usage='deep')\n",
    "\n",
    "# Memória abaixou de 79.3 MB para 11.3 MB"
   ]
  },
  {
   "cell_type": "code",
   "execution_count": 7,
   "metadata": {},
   "outputs": [
    {
     "name": "stdout",
     "output_type": "stream",
     "text": [
      "INFO\n",
      "<class 'pandas.core.frame.DataFrame'>\n",
      "RangeIndex: 359400 entries, 0 to 359399\n",
      "Data columns (total 5 columns):\n",
      " #   Column     Non-Null Count   Dtype         \n",
      "---  ------     --------------   -----         \n",
      " 0   Device     359400 non-null  category      \n",
      " 1   End Ts     359400 non-null  datetime64[ns]\n",
      " 2   Source Id  359400 non-null  int64         \n",
      " 3   Start Ts   359400 non-null  datetime64[ns]\n",
      " 4   Uid        359400 non-null  uint64        \n",
      "dtypes: category(1), datetime64[ns](2), int64(1), uint64(1)\n",
      "memory usage: 11.3 MB\n",
      "None\n",
      "\n",
      "HEAD\n",
      "    Device              End Ts  Source Id            Start Ts  \\\n",
      "0    touch 2017-12-20 17:38:00          4 2017-12-20 17:20:00   \n",
      "1  desktop 2018-02-19 17:21:00          2 2018-02-19 16:53:00   \n",
      "2    touch 2017-07-01 01:54:00          5 2017-07-01 01:54:00   \n",
      "3  desktop 2018-05-20 11:23:00          9 2018-05-20 10:59:00   \n",
      "4  desktop 2017-12-27 14:06:00          3 2017-12-27 14:06:00   \n",
      "\n",
      "                    Uid  \n",
      "0  16879256277535980062  \n",
      "1    104060357244891740  \n",
      "2   7459035603376831527  \n",
      "3  16174680259334210214  \n",
      "4   9969694820036681168  \n"
     ]
    }
   ],
   "source": [
    "# Checando mais consistências de dados\n",
    "\n",
    "# Info:\n",
    "print('INFO')\n",
    "print(visits.info())\n",
    "\n",
    "print()\n",
    "\n",
    "# Primeiras linhas:\n",
    "print('HEAD')\n",
    "print(visits.head())"
   ]
  },
  {
   "cell_type": "code",
   "execution_count": 8,
   "metadata": {},
   "outputs": [],
   "source": [
    "# ORDERS LOG\n",
    "orders = pd.read_csv('/datasets/orders_log_us.csv')"
   ]
  },
  {
   "cell_type": "code",
   "execution_count": 9,
   "metadata": {
    "scrolled": true
   },
   "outputs": [
    {
     "name": "stdout",
     "output_type": "stream",
     "text": [
      "<class 'pandas.core.frame.DataFrame'>\n",
      "RangeIndex: 50415 entries, 0 to 50414\n",
      "Data columns (total 3 columns):\n",
      " #   Column   Non-Null Count  Dtype  \n",
      "---  ------   --------------  -----  \n",
      " 0   Buy Ts   50415 non-null  object \n",
      " 1   Revenue  50415 non-null  float64\n",
      " 2   Uid      50415 non-null  uint64 \n",
      "dtypes: float64(1), object(1), uint64(1)\n",
      "memory usage: 4.4 MB\n"
     ]
    }
   ],
   "source": [
    "# Descobrindo infos e tamanho do arquivo:\n",
    "orders.info(memory_usage='deep')"
   ]
  },
  {
   "cell_type": "code",
   "execution_count": 10,
   "metadata": {},
   "outputs": [
    {
     "name": "stdout",
     "output_type": "stream",
     "text": [
      "                    Buy Ts  Revenue                   Uid\n",
      "0      2017-06-01 00:10:00    17.00  10329302124590727494\n",
      "1      2017-06-01 00:25:00     0.55  11627257723692907447\n",
      "2      2017-06-01 00:27:00     0.37  17903680561304213844\n",
      "3      2017-06-01 00:29:00     0.55  16109239769442553005\n",
      "4      2017-06-01 07:58:00     0.37  14200605875248379450\n",
      "...                    ...      ...                   ...\n",
      "50410  2018-05-31 23:50:00     4.64  12296626599487328624\n",
      "50411  2018-05-31 23:50:00     5.80  11369640365507475976\n",
      "50412  2018-05-31 23:54:00     0.30   1786462140797698849\n",
      "50413  2018-05-31 23:56:00     3.67   3993697860786194247\n",
      "50414  2018-06-01 00:02:00     3.42     83872787173869366\n",
      "\n",
      "[50415 rows x 3 columns]\n"
     ]
    }
   ],
   "source": [
    "# Checando informações:\n",
    "print(orders)"
   ]
  },
  {
   "cell_type": "code",
   "execution_count": 11,
   "metadata": {},
   "outputs": [],
   "source": [
    "# Mudando colunas 'Buy Ts' para o formato de data e hora:\n",
    "orders['Buy Ts'] = pd.to_datetime(orders['Buy Ts'])"
   ]
  },
  {
   "cell_type": "code",
   "execution_count": 12,
   "metadata": {},
   "outputs": [
    {
     "name": "stdout",
     "output_type": "stream",
     "text": [
      "<class 'pandas.core.frame.DataFrame'>\n",
      "RangeIndex: 50415 entries, 0 to 50414\n",
      "Data columns (total 3 columns):\n",
      " #   Column   Non-Null Count  Dtype         \n",
      "---  ------   --------------  -----         \n",
      " 0   Buy Ts   50415 non-null  datetime64[ns]\n",
      " 1   Revenue  50415 non-null  float64       \n",
      " 2   Uid      50415 non-null  uint64        \n",
      "dtypes: datetime64[ns](1), float64(1), uint64(1)\n",
      "memory usage: 1.2 MB\n"
     ]
    }
   ],
   "source": [
    "# Conferindo mudanças:\n",
    "\n",
    "orders.info(memory_usage='deep')\n",
    "\n",
    "# Memória abaixou de 4.4 MB para 1.2 MB"
   ]
  },
  {
   "cell_type": "code",
   "execution_count": 13,
   "metadata": {},
   "outputs": [
    {
     "name": "stdout",
     "output_type": "stream",
     "text": [
      "INFO\n",
      "<class 'pandas.core.frame.DataFrame'>\n",
      "RangeIndex: 50415 entries, 0 to 50414\n",
      "Data columns (total 3 columns):\n",
      " #   Column   Non-Null Count  Dtype         \n",
      "---  ------   --------------  -----         \n",
      " 0   Buy Ts   50415 non-null  datetime64[ns]\n",
      " 1   Revenue  50415 non-null  float64       \n",
      " 2   Uid      50415 non-null  uint64        \n",
      "dtypes: datetime64[ns](1), float64(1), uint64(1)\n",
      "memory usage: 1.2 MB\n",
      "None\n",
      "\n",
      "HEAD\n",
      "               Buy Ts  Revenue                   Uid\n",
      "0 2017-06-01 00:10:00    17.00  10329302124590727494\n",
      "1 2017-06-01 00:25:00     0.55  11627257723692907447\n",
      "2 2017-06-01 00:27:00     0.37  17903680561304213844\n",
      "3 2017-06-01 00:29:00     0.55  16109239769442553005\n",
      "4 2017-06-01 07:58:00     0.37  14200605875248379450\n"
     ]
    }
   ],
   "source": [
    "# Checando mais consistências de dados\n",
    "\n",
    "# Info:\n",
    "print('INFO')\n",
    "print(orders.info())\n",
    "\n",
    "print()\n",
    "\n",
    "# Primeiras linhas:\n",
    "print('HEAD')\n",
    "print(orders.head())"
   ]
  },
  {
   "cell_type": "code",
   "execution_count": 14,
   "metadata": {},
   "outputs": [],
   "source": [
    "# COSTS LOG\n",
    "costs = pd.read_csv('/datasets/costs_us.csv')"
   ]
  },
  {
   "cell_type": "code",
   "execution_count": 15,
   "metadata": {},
   "outputs": [
    {
     "name": "stdout",
     "output_type": "stream",
     "text": [
      "<class 'pandas.core.frame.DataFrame'>\n",
      "RangeIndex: 2542 entries, 0 to 2541\n",
      "Data columns (total 3 columns):\n",
      " #   Column     Non-Null Count  Dtype  \n",
      "---  ------     --------------  -----  \n",
      " 0   source_id  2542 non-null   int64  \n",
      " 1   dt         2542 non-null   object \n",
      " 2   costs      2542 non-null   float64\n",
      "dtypes: float64(1), int64(1), object(1)\n",
      "memory usage: 206.2 KB\n"
     ]
    }
   ],
   "source": [
    "# Descobrindo infos e tamanho do arquivo:\n",
    "costs.info(memory_usage='deep')"
   ]
  },
  {
   "cell_type": "code",
   "execution_count": 16,
   "metadata": {},
   "outputs": [
    {
     "name": "stdout",
     "output_type": "stream",
     "text": [
      "      source_id          dt  costs\n",
      "0             1  2017-06-01  75.20\n",
      "1             1  2017-06-02  62.25\n",
      "2             1  2017-06-03  36.53\n",
      "3             1  2017-06-04  55.00\n",
      "4             1  2017-06-05  57.08\n",
      "...         ...         ...    ...\n",
      "2537         10  2018-05-27   9.92\n",
      "2538         10  2018-05-28  21.26\n",
      "2539         10  2018-05-29  11.32\n",
      "2540         10  2018-05-30  33.15\n",
      "2541         10  2018-05-31  17.60\n",
      "\n",
      "[2542 rows x 3 columns]\n"
     ]
    }
   ],
   "source": [
    "# Checando informações:\n",
    "print(costs)"
   ]
  },
  {
   "cell_type": "code",
   "execution_count": 17,
   "metadata": {},
   "outputs": [],
   "source": [
    "# Mudando colunas 'dt' para o formato de data e hora:\n",
    "costs['dt'] = pd.to_datetime(costs['dt'])"
   ]
  },
  {
   "cell_type": "code",
   "execution_count": 18,
   "metadata": {},
   "outputs": [
    {
     "name": "stdout",
     "output_type": "stream",
     "text": [
      "<class 'pandas.core.frame.DataFrame'>\n",
      "RangeIndex: 2542 entries, 0 to 2541\n",
      "Data columns (total 3 columns):\n",
      " #   Column     Non-Null Count  Dtype         \n",
      "---  ------     --------------  -----         \n",
      " 0   source_id  2542 non-null   int64         \n",
      " 1   dt         2542 non-null   datetime64[ns]\n",
      " 2   costs      2542 non-null   float64       \n",
      "dtypes: datetime64[ns](1), float64(1), int64(1)\n",
      "memory usage: 59.7 KB\n"
     ]
    }
   ],
   "source": [
    "# Conferindo mudanças:\n",
    "\n",
    "costs.info(memory_usage='deep')\n",
    "\n",
    "# Memória abaixou de 206.2 MB para 59.7 MB"
   ]
  },
  {
   "cell_type": "code",
   "execution_count": 19,
   "metadata": {},
   "outputs": [
    {
     "name": "stdout",
     "output_type": "stream",
     "text": [
      "INFO\n",
      "<class 'pandas.core.frame.DataFrame'>\n",
      "RangeIndex: 2542 entries, 0 to 2541\n",
      "Data columns (total 3 columns):\n",
      " #   Column     Non-Null Count  Dtype         \n",
      "---  ------     --------------  -----         \n",
      " 0   source_id  2542 non-null   int64         \n",
      " 1   dt         2542 non-null   datetime64[ns]\n",
      " 2   costs      2542 non-null   float64       \n",
      "dtypes: datetime64[ns](1), float64(1), int64(1)\n",
      "memory usage: 59.7 KB\n",
      "None\n",
      "\n",
      "HEAD\n",
      "   source_id         dt  costs\n",
      "0          1 2017-06-01  75.20\n",
      "1          1 2017-06-02  62.25\n",
      "2          1 2017-06-03  36.53\n",
      "3          1 2017-06-04  55.00\n",
      "4          1 2017-06-05  57.08\n"
     ]
    }
   ],
   "source": [
    "# Checando mais consistências de dados\n",
    "\n",
    "# Info:\n",
    "print('INFO')\n",
    "print(costs.info())\n",
    "\n",
    "print()\n",
    "\n",
    "# Primeiras linhas:\n",
    "print('HEAD')\n",
    "print(costs.head())"
   ]
  },
  {
   "cell_type": "markdown",
   "metadata": {},
   "source": [
    "Conclusões:\n",
    "As bases no geral são sólidas, sem valores ausentes. Após alterar o formato de algumas colunas, a memória de todas diminuiu significativamente. As que não tiveram o formato alterado estão de acordo com as categorias."
   ]
  },
  {
   "cell_type": "markdown",
   "metadata": {},
   "source": [
    "Calculando as métricas:\n",
    "\n",
    "Produto\n",
    " \n",
    "Quantas pessoas usam-no cada dia, semana e mês?<br />\n",
    "Quantas sessões ocorrem por dia?<br />\n",
    "Que comprimento tem cada sessão?<br />\n",
    "Com que frequência os usuários voltam?"
   ]
  },
  {
   "cell_type": "code",
   "execution_count": 20,
   "metadata": {},
   "outputs": [
    {
     "name": "stdout",
     "output_type": "stream",
     "text": [
      "Usuários únicos por dia:\n",
      "day\n",
      "2017-06-01    605\n",
      "2017-06-02    608\n",
      "2017-06-03    445\n",
      "2017-06-04    476\n",
      "2017-06-05    820\n",
      "Name: Uid, dtype: int64\n",
      "\n",
      "Usuários únicos por semana:\n",
      "week\n",
      "2017-05-29/2017-06-04    2021\n",
      "2017-06-05/2017-06-11    4129\n",
      "2017-06-12/2017-06-18    2812\n",
      "2017-06-19/2017-06-25    2878\n",
      "2017-06-26/2017-07-02    3064\n",
      "Freq: W-SUN, Name: Uid, dtype: int64\n",
      "\n",
      "Usuários únicos por mês:\n",
      "month\n",
      "2017-06    13259\n",
      "2017-07    14183\n",
      "2017-08    11631\n",
      "2017-09    18975\n",
      "2017-10    29692\n",
      "Freq: M, Name: Uid, dtype: int64\n"
     ]
    }
   ],
   "source": [
    "# Quantas pessoas usam o produto a cada dia, semana e mês?\n",
    "\n",
    "# Criar colunas de dia, semana e mês\n",
    "visits['day'] = visits['Start Ts'].dt.date\n",
    "visits['week'] = visits['Start Ts'].dt.to_period('W')\n",
    "visits['month'] = visits['Start Ts'].dt.to_period('M')\n",
    "\n",
    "# Contar usuários únicos por dia, semana e mês\n",
    "daily_users = visits.groupby('day')['Uid'].nunique()\n",
    "weekly_users = visits.groupby('week')['Uid'].nunique()\n",
    "monthly_users = visits.groupby('month')['Uid'].nunique()\n",
    "\n",
    "# Imprimir os resultados\n",
    "print(\"Usuários únicos por dia:\")\n",
    "print(daily_users.head())\n",
    "\n",
    "print(\"\\nUsuários únicos por semana:\")\n",
    "print(weekly_users.head())\n",
    "\n",
    "print(\"\\nUsuários únicos por mês:\")\n",
    "print(monthly_users.head())"
   ]
  },
  {
   "cell_type": "code",
   "execution_count": 21,
   "metadata": {},
   "outputs": [
    {
     "data": {
      "image/png": "[encoded data removed]",
      "text/plain": [
       "<Figure size 1000x500 with 1 Axes>"
      ]
     },
     "metadata": {},
     "output_type": "display_data"
    },
    {
     "data": {
      "image/png": "[encoded data removed]",
      "text/plain": [
       "<Figure size 1000x500 with 1 Axes>"
      ]
     },
     "metadata": {},
     "output_type": "display_data"
    },
    {
     "data": {
      "image/png": "[encoded data removed]",
      "text/plain": [
       "<Figure size 1000x500 with 1 Axes>"
      ]
     },
     "metadata": {},
     "output_type": "display_data"
    }
   ],
   "source": [
    "# Gráficos:\n",
    "\n",
    "# Usuários únicos por dia\n",
    "daily_users.plot(figsize=(10, 5), title=\"Usuários Únicos por Dia\", label='Usuários Diários')\n",
    "plt.ylabel('Número de Usuários')\n",
    "plt.xlabel('Dias')\n",
    "plt.legend()\n",
    "plt.grid()\n",
    "plt.show()\n",
    "\n",
    "# Usuários únicos por semana\n",
    "weekly_users.plot(kind='bar', figsize=(10, 5), title=\"Usuários Únicos por Semana\", alpha=0.7)\n",
    "plt.ylabel('Número de Usuários')\n",
    "plt.xlabel('Semanas')\n",
    "plt.grid()\n",
    "plt.show()\n",
    "\n",
    "# Usuários únicos por mês\n",
    "monthly_users.plot(kind='bar', figsize=(10, 5), title=\"Usuários Únicos por Mês\", alpha=0.7)\n",
    "plt.ylabel('Número de Usuários')\n",
    "plt.xlabel('Meses')\n",
    "plt.grid()\n",
    "plt.show()\n"
   ]
  },
  {
   "cell_type": "markdown",
   "metadata": {},
   "source": [
    "Conclusão:\n",
    "Quando se analisa de forma mensal, podemos ver um pico de atividade entre os meses de outubro a dezembro, que se deu por datas específicas que acabaram jogando os meses para cima.\n",
    "Quando analisamos por semana, conseguimos notar que realmente que teve um pico mais acentuado na semana do Natal, que também fica mais claro se observado por dia."
   ]
  },
  {
   "cell_type": "code",
   "execution_count": 22,
   "metadata": {},
   "outputs": [
    {
     "name": "stdout",
     "output_type": "stream",
     "text": [
      "Sessões por dia:\n",
      "day\n",
      "2017-06-01    664\n",
      "2017-06-02    658\n",
      "2017-06-03    477\n",
      "2017-06-04    510\n",
      "2017-06-05    893\n",
      "dtype: int64\n"
     ]
    }
   ],
   "source": [
    "# Quantas sessões ocorrem por dia?\n",
    "\n",
    "# Contar sessões por dia\n",
    "daily_sessions = visits.groupby('day').size()\n",
    "\n",
    "print(\"Sessões por dia:\")\n",
    "print(daily_sessions.head())"
   ]
  },
  {
   "cell_type": "code",
   "execution_count": 23,
   "metadata": {},
   "outputs": [
    {
     "data": {
      "image/png": "[encoded data removed]",
      "text/plain": [
       "<Figure size 1000x500 with 1 Axes>"
      ]
     },
     "metadata": {},
     "output_type": "display_data"
    }
   ],
   "source": [
    "# Gráfico:\n",
    "\n",
    "daily_sessions.plot(figsize=(10, 5), title=\"Sessões por Dia\", label='Sessões Diárias')\n",
    "plt.ylabel('Número de Sessões')\n",
    "plt.xlabel('Dias')\n",
    "plt.legend()\n",
    "plt.grid()\n",
    "plt.show()\n"
   ]
  },
  {
   "cell_type": "code",
   "execution_count": 24,
   "metadata": {},
   "outputs": [
    {
     "name": "stdout",
     "output_type": "stream",
     "text": [
      "Comprimento médio das sessões (em segundos):\n",
      "643.0256872565387\n"
     ]
    }
   ],
   "source": [
    "# Que comprimento tem cada sessão?\n",
    "\n",
    "# Converter 'end_ts' para datetime\n",
    "visits['End Ts'] = pd.to_datetime(visits['End Ts'])\n",
    "\n",
    "# Calcular o comprimento da sessão em segundos\n",
    "visits['session_length'] = (visits['End Ts'] - visits['Start Ts']).dt.total_seconds()\n",
    "\n",
    "print(\"Comprimento médio das sessões (em segundos):\")\n",
    "print(visits['session_length'].mean())\n"
   ]
  },
  {
   "cell_type": "markdown",
   "metadata": {},
   "source": [
    "Conclusão:\n",
    "Os usuários passam em média 10 minutos (643 segundos) na sessão.\n"
   ]
  },
  {
   "cell_type": "code",
   "execution_count": 25,
   "metadata": {},
   "outputs": [
    {
     "name": "stdout",
     "output_type": "stream",
     "text": [
      "Usuários que retornaram: 45045\n",
      "Porcentagem de retorno: 19.74%\n"
     ]
    }
   ],
   "source": [
    "# Com que frequência os usuários voltam?\n",
    "\n",
    "# Contar dias únicos de atividade por usuário\n",
    "user_activity = visits.groupby('Uid')['day'].nunique()\n",
    "\n",
    "# Contar quantos usuários têm mais de 1 dia de atividade\n",
    "returning_users = user_activity[user_activity > 1].count()\n",
    "total_users = user_activity.count()\n",
    "\n",
    "print(f\"Usuários que retornaram: {returning_users}\")\n",
    "print(f\"Porcentagem de retorno: {returning_users / total_users * 100:.2f}%\")"
   ]
  },
  {
   "cell_type": "code",
   "execution_count": 26,
   "metadata": {},
   "outputs": [
    {
     "data": {
      "image/png": "[encoded data removed]",
      "text/plain": [
       "<Figure size 800x800 with 1 Axes>"
      ]
     },
     "metadata": {},
     "output_type": "display_data"
    }
   ],
   "source": [
    "non_returning_users = total_users - returning_users\n",
    "\n",
    "# Gráfico de pizza\n",
    "plt.figure(figsize=(8, 8))\n",
    "plt.pie(\n",
    "    [returning_users, non_returning_users], \n",
    "    labels=['Retornaram', 'Não Retornaram'], \n",
    "    autopct='%1.1f%%', \n",
    "    startangle=90\n",
    ")\n",
    "plt.title('Porcentagem de Retorno dos Usuários')\n",
    "plt.show()\n"
   ]
  },
  {
   "cell_type": "markdown",
   "metadata": {},
   "source": [
    "Conclusões:\n",
    "\n",
    "Tem um pico de atividade entre os meses de outubro a dezembro, com destaque na semana do Natal.<br />\n",
    "Os usuários passam em média 10 minutos (643 segundos) na sessão.<br />\n",
    "Menos de 20% dos usuários costumam voltar."
   ]
  },
  {
   "cell_type": "markdown",
   "metadata": {},
   "source": [
    "Cálculo de métricas:\n",
    "\n",
    "Vendas\n",
    " \n",
    "Quando as pessoas começam a comprar?<br />\n",
    "Quantos pedidos os clientes fazem durante um determinado período de tempo?<br />\n",
    "Qual é o volume médio de uma compra? <br />\n",
    "Quanto dinheiro eles trazem para a empresa (LTV)? <br />"
   ]
  },
  {
   "cell_type": "code",
   "execution_count": 27,
   "metadata": {},
   "outputs": [
    {
     "name": "stdout",
     "output_type": "stream",
     "text": [
      "0      26363\n",
      "1       1011\n",
      "2        563\n",
      "3        434\n",
      "4        324\n",
      "       ...  \n",
      "354        1\n",
      "355        3\n",
      "357        4\n",
      "362        1\n",
      "363        1\n",
      "Name: Conversion Days, Length: 345, dtype: int64\n"
     ]
    }
   ],
   "source": [
    "# Quando as pessoas começam a comprar?\n",
    "\n",
    "# Identificar a primeira atividade de cada usuário\n",
    "first_activity = visits.groupby('Uid')['Start Ts'].min().reset_index()\n",
    "first_activity.rename(columns={'Start Ts': 'First Activity'}, inplace=True)\n",
    "\n",
    "# Identificar a primeira compra de cada usuário\n",
    "first_purchase = orders.groupby('Uid')['Buy Ts'].min().reset_index()\n",
    "first_purchase.rename(columns={'Buy Ts': 'First Purchase'}, inplace=True)\n",
    "\n",
    "# Combinar as duas tabelas\n",
    "user_conversion = pd.merge(first_activity, first_purchase, on='Uid', how='inner')\n",
    "\n",
    "# Calcular o intervalo entre a primeira atividade e a compra\n",
    "user_conversion['Conversion Days'] = (user_conversion['First Purchase'] - user_conversion['First Activity']).dt.days\n",
    "\n",
    "# Agrupar por intervalo e contar usuários\n",
    "conversion_summary = user_conversion['Conversion Days'].value_counts().sort_index()\n",
    "\n",
    "print(conversion_summary)\n"
   ]
  },
  {
   "cell_type": "code",
   "execution_count": 28,
   "metadata": {},
   "outputs": [
    {
     "data": {
      "image/png": "[encoded data removed]",
      "text/plain": [
       "<Figure size 640x480 with 1 Axes>"
      ]
     },
     "metadata": {},
     "output_type": "display_data"
    }
   ],
   "source": [
    "# Gráfico:\n",
    "\n",
    "plt.hist(user_conversion['Conversion Days'], bins=30)\n",
    "plt.title('Dias para Conversão (Primeira Compra)')\n",
    "plt.xlabel('Dias entre Atividade Inicial e Compra')\n",
    "plt.ylabel('Quantidade de Usuários')\n",
    "\n",
    "plt.show()"
   ]
  },
  {
   "cell_type": "markdown",
   "metadata": {},
   "source": [
    "Conclusão:   \n",
    "A grande maioria dos compradores já iniciam sua atividade na intenção de comprar, uma vez que a maior parte esmagadora fez a sua compra no mesmo dia do primeiro acesso (com bastante diferença de 0 para 1 dia)."
   ]
  },
  {
   "cell_type": "code",
   "execution_count": 29,
   "metadata": {},
   "outputs": [
    {
     "name": "stdout",
     "output_type": "stream",
     "text": [
      "Pedidos por dia:\n",
      "day\n",
      "2017-06-01     96\n",
      "2017-06-02    111\n",
      "2017-06-03     67\n",
      "2017-06-04     66\n",
      "2017-06-05    161\n",
      "Name: Uid, dtype: int64\n",
      "\n",
      "Pedidos por semana:\n",
      "week\n",
      "2017-05-29/2017-06-04    340\n",
      "2017-06-05/2017-06-11    938\n",
      "2017-06-12/2017-06-18    343\n",
      "2017-06-19/2017-06-25    371\n",
      "2017-06-26/2017-07-02    460\n",
      "Freq: W-SUN, Name: Uid, dtype: int64\n",
      "\n",
      "Pedidos por mês:\n",
      "month\n",
      "2017-06    2354\n",
      "2017-07    2363\n",
      "2017-08    1807\n",
      "2017-09    3387\n",
      "2017-10    5679\n",
      "2017-11    5659\n",
      "2017-12    6218\n",
      "2018-01    4721\n",
      "2018-02    5281\n",
      "2018-03    5326\n",
      "2018-04    3273\n",
      "2018-05    4346\n",
      "Freq: M, Name: Uid, dtype: int64\n"
     ]
    }
   ],
   "source": [
    "# Quantos pedidos os clientes fazem durante um determinado período de tempo?\n",
    "\n",
    "# Adicionar colunas de dia, semana e mês à tabela de pedidos\n",
    "orders['day'] = orders['Buy Ts'].dt.date\n",
    "orders['week'] = orders['Buy Ts'].dt.to_period('W')\n",
    "orders['month'] = orders['Buy Ts'].dt.to_period('M')\n",
    "\n",
    "# Contar pedidos por período\n",
    "daily_orders = orders.groupby('day')['Uid'].count()\n",
    "weekly_orders = orders.groupby('week')['Uid'].count()\n",
    "monthly_orders = orders.groupby('month')['Uid'].count()\n",
    "\n",
    "print(\"Pedidos por dia:\")\n",
    "print(daily_orders.head())\n",
    "\n",
    "print(\"\\nPedidos por semana:\")\n",
    "print(weekly_orders.head())\n",
    "\n",
    "print(\"\\nPedidos por mês:\")\n",
    "print(monthly_orders.head(12))\n"
   ]
  },
  {
   "cell_type": "markdown",
   "metadata": {},
   "source": [
    "Conclusões:\n",
    "Há uma variação significativa no volume de pedidos diários, com picos em dias úteis como 2017-06-05 (161 pedidos).\n",
    "O volume semanal apresenta flutuações, porém também possui picos como a semana de 2017-06-05 a 2017-06-11 (938 pedidos).\n",
    "Os dados mensais mostram um crescimento acentuado ao longo dos meses analisados.\n"
   ]
  },
  {
   "cell_type": "code",
   "execution_count": 30,
   "metadata": {},
   "outputs": [
    {
     "name": "stdout",
     "output_type": "stream",
     "text": [
      "Volume médio de uma compra: $5.00\n"
     ]
    }
   ],
   "source": [
    "# Qual é o volume médio de uma compra?\n",
    "\n",
    "# Calcular o valor médio de uma compra\n",
    "average_order_value = orders['Revenue'].mean()\n",
    "\n",
    "print(f\"Volume médio de uma compra: ${average_order_value:.2f}\")"
   ]
  },
  {
   "cell_type": "code",
   "execution_count": 31,
   "metadata": {},
   "outputs": [
    {
     "name": "stdout",
     "output_type": "stream",
     "text": [
      "Lifetime Value médio: $6.90\n"
     ]
    }
   ],
   "source": [
    "# Quanto dinheiro eles trazem para a empresa (LTV)?\n",
    "\n",
    "# Receita total por usuário\n",
    "revenue_per_user = orders.groupby('Uid')['Revenue'].sum()\n",
    "\n",
    "# Lifetime Value (LTV) médio\n",
    "ltv = revenue_per_user.mean()\n",
    "\n",
    "# Resultado\n",
    "print(f\"Lifetime Value médio: ${ltv:.2f}\")"
   ]
  },
  {
   "cell_type": "code",
   "execution_count": 42,
   "metadata": {},
   "outputs": [
    {
     "data": {
      "image/png": "[encoded data removed]",
      "text/plain": [
       "<Figure size 1200x800 with 2 Axes>"
      ]
     },
     "metadata": {},
     "output_type": "display_data"
    }
   ],
   "source": [
    "# Gráfico:\n",
    "\n",
    "# LTV de cada pedido em meses\n",
    "orders['Cohort Lifetime'] = ((orders['Buy Ts'].dt.to_period('M') - orders['Cohort']).apply(lambda x: x.n))\n",
    "\n",
    "# Receita acumulada por coorte e tempo de vida\n",
    "cohort_revenue = orders.groupby(['Cohort', 'Cohort Lifetime'])['Revenue'].sum().reset_index()\n",
    "cohort_pivot = cohort_revenue.pivot(index='Cohort Lifetime', columns='Cohort', values='Revenue').fillna(0).cumsum()\n",
    "\n",
    "# Número de usuários únicos por coorte\n",
    "cohort_sizes = first_activity.groupby('Cohort')['Uid'].nunique()\n",
    "ltv_cumulative = cohort_pivot.div(cohort_sizes, axis=1)\n",
    "\n",
    "plt.figure(figsize=(12, 8))\n",
    "sns.heatmap(ltv_cumulative.transpose(), annot=True, fmt='.2f', cbar=True)\n",
    "plt.title('Lifetime Value (LTV) por Coorte e Tempo de Vida')\n",
    "plt.xlabel('Tempo de Vida (Meses)')\n",
    "plt.ylabel('Coorte (Mês de Primeira Atividade)')\n",
    "plt.show()\n"
   ]
  },
  {
   "cell_type": "markdown",
   "metadata": {},
   "source": [
    "Marketing\n",
    " \n",
    "Quanto dinheiro foi gasto? No total/por origem/ao longo do tempo\n",
    "Quanto custou a aquisição de clientes para cada origem?\n",
    "Os investimentos valeram a pena? (ROI)\n",
    "\n",
    "Construa gráficos para ver como essas métricas diferem para vários dispositivos e diferentes origens de anúncios e como elas mudam com o tempo. "
   ]
  },
  {
   "cell_type": "code",
   "execution_count": 33,
   "metadata": {},
   "outputs": [
    {
     "name": "stdout",
     "output_type": "stream",
     "text": [
      "Total gasto: $329131.62\n",
      "\n",
      "Gasto por origem:\n",
      "   source_id  Total Costs\n",
      "0          1     20833.27\n",
      "1          2     42806.04\n",
      "2          3    141321.63\n",
      "3          4     61073.60\n",
      "4          5     51757.10\n",
      "5          9      5517.49\n",
      "6         10      5822.49\n",
      "\n",
      "Gasto ao longo do tempo:\n",
      "            dt  Total Costs\n",
      "0   2017-06-01       735.26\n",
      "1   2017-06-02       721.19\n",
      "2   2017-06-03       450.85\n",
      "3   2017-06-04       761.16\n",
      "4   2017-06-05       821.44\n",
      "..         ...          ...\n",
      "359 2018-05-27       532.87\n",
      "360 2018-05-28       619.44\n",
      "361 2018-05-29       784.79\n",
      "362 2018-05-30      1183.00\n",
      "363 2018-05-31      2153.70\n",
      "\n",
      "[364 rows x 2 columns]\n"
     ]
    }
   ],
   "source": [
    "# Quanto dinheiro foi gasto? No total/por origem/ao longo do tempo\n",
    "\n",
    "# Total gasto\n",
    "total_spent = costs['costs'].sum()\n",
    "print(f\"Total gasto: ${total_spent:.2f}\")\n",
    "\n",
    "# Gasto por origem\n",
    "spent_by_source = costs.groupby('source_id')['costs'].sum().reset_index()\n",
    "spent_by_source.rename(columns={'costs': 'Total Costs'}, inplace=True)\n",
    "print(\"\")\n",
    "print(\"Gasto por origem:\")\n",
    "print(spent_by_source)\n",
    "\n",
    "# Gasto ao longo do tempo\n",
    "spent_over_time = costs.groupby('dt')['costs'].sum().reset_index()\n",
    "spent_over_time.rename(columns={'costs': 'Total Costs'}, inplace=True)\n",
    "print(\"\")\n",
    "print(\"Gasto ao longo do tempo:\")\n",
    "print(spent_over_time)\n"
   ]
  },
  {
   "cell_type": "code",
   "execution_count": 34,
   "metadata": {},
   "outputs": [
    {
     "data": {
      "image/png": "[encoded data removed]",
      "text/plain": [
       "<Figure size 1200x600 with 1 Axes>"
      ]
     },
     "metadata": {},
     "output_type": "display_data"
    }
   ],
   "source": [
    "# Gráfico para visualizar os gastos ao longo do tempo\n",
    "\n",
    "\n",
    "plt.figure(figsize=(12, 6))\n",
    "plt.plot(spent_over_time['dt'], spent_over_time['Total Costs'])\n",
    "plt.title('Gastos ao longo do tempo')\n",
    "plt.xlabel('Data')\n",
    "plt.ylabel('Total Gasto ($)')\n",
    "plt.xticks(rotation=45)\n",
    "plt.grid()\n",
    "plt.show()\n"
   ]
  },
  {
   "cell_type": "code",
   "execution_count": 35,
   "metadata": {},
   "outputs": [
    {
     "data": {
      "image/png": "[encoded data removed]",
      "text/plain": [
       "<Figure size 1000x600 with 1 Axes>"
      ]
     },
     "metadata": {},
     "output_type": "display_data"
    }
   ],
   "source": [
    "# Gráfico para visualizar gasto total por origem\n",
    "\n",
    "plt.figure(figsize=(10, 6))\n",
    "plt.bar(spent_by_source['source_id'], spent_by_source['Total Costs'], color='teal')\n",
    "plt.title('Gasto Total por Origem')\n",
    "plt.xlabel('Origem')\n",
    "plt.ylabel('Total Gasto ($)')\n",
    "plt.show()\n"
   ]
  },
  {
   "cell_type": "code",
   "execution_count": 36,
   "metadata": {},
   "outputs": [
    {
     "name": "stdout",
     "output_type": "stream",
     "text": [
      "   source_id  Total Costs  Customers Acquired        CAC\n",
      "0          1     20833.27                7138   2.918642\n",
      "1          2     42806.04                7305   5.859828\n",
      "2          3    141321.63               13846  10.206676\n",
      "3          4     61073.60               14253   4.284965\n",
      "4          5     51757.10               10156   5.096209\n",
      "5          9      5517.49                2793   1.975471\n",
      "6         10      5822.49                1773   3.283976\n"
     ]
    }
   ],
   "source": [
    "# Quanto custou a aquisição de clientes para cada origem?\n",
    "\n",
    "# Número de clientes adquiridos por origem\n",
    "customers_by_source = orders.merge(visits, on='Uid', how='left') \\\n",
    "                             .groupby('Source Id')['Uid'].nunique().reset_index()\n",
    "customers_by_source.rename(columns={'Uid': 'Customers Acquired'}, inplace=True)\n",
    "\n",
    "# Combinar com os custos por origem\n",
    "cac = spent_by_source.merge(customers_by_source, left_on='source_id', right_on='Source Id', how='left')\n",
    "cac['CAC'] = cac['Total Costs'] / cac['Customers Acquired']\n",
    "\n",
    "print(cac[['source_id', 'Total Costs', 'Customers Acquired', 'CAC']])\n"
   ]
  },
  {
   "cell_type": "code",
   "execution_count": 37,
   "metadata": {},
   "outputs": [
    {
     "name": "stdout",
     "output_type": "stream",
     "text": [
      "   source_id  Total Costs  Total Revenue         ROI\n",
      "0          1     20833.27   2.298200e+06  109.313944\n",
      "1          2     42806.04   2.638189e+06   60.631237\n",
      "2          3    141321.63   2.966880e+05    1.099381\n",
      "3          4     61073.60   4.966902e+05    7.132649\n",
      "4          5     51757.10   1.181477e+06   21.827344\n",
      "5          9      5517.49   3.634225e+04    5.586736\n",
      "6         10      5822.49   1.461923e+04    1.510821\n"
     ]
    }
   ],
   "source": [
    "# Os investimentos valeram a pena? (ROI)\n",
    "\n",
    "# Receita por origem\n",
    "revenue_by_source = orders.merge(visits, on='Uid', how='left') \\\n",
    "                           .groupby('Source Id')['Revenue'].sum().reset_index()\n",
    "revenue_by_source.rename(columns={'Revenue': 'Total Revenue'}, inplace=True)\n",
    "\n",
    "# Combinar com os gastos\n",
    "roi = spent_by_source.merge(revenue_by_source, left_on='source_id', right_on='Source Id', how='left')\n",
    "roi['ROI'] = (roi['Total Revenue'] - roi['Total Costs']) / roi['Total Costs']\n",
    "\n",
    "print(roi[['source_id', 'Total Costs', 'Total Revenue', 'ROI']])\n"
   ]
  },
  {
   "cell_type": "markdown",
   "metadata": {},
   "source": [
    "**Conclusões:**\n",
    "    \n",
    "Após conduzir análises de produto, vendas e marketing, recomendamos que o departamento de marketing:\n",
    "\n",
    "\n",
    "- Priorizar a Origem 1: Apresenta o maior ROI (109.31) e o menor CAC (2.92), mostrando-se o canal mais eficiente para gerar novos clientes e retorno financeiro.\n",
    "- Aumentar o investimento na Origem 2: Embora tenha um ROI mais baixo (60.63), ainda é uma boa opção devido ao CAC razoável e bom retorno.\n",
    "- Reavaliar a Origem 3: Embora tenha um volume significativo de vendas, apresenta um ROI muito baixo (1.10), o que sugere que o investimento não está gerando um bom retorno.\n",
    "- Explorar a Origem 9: Com o menor CAC (1.98), pode ser uma boa opção de teste, apesar de ter um volume menor de aquisições.\n",
    "\n",
    "Resumindo: Investir mais nas Origens 1 e 2, reduzir o investimento na Origem 3 e explorar a Origem 9."
   ]
  }
 ],
 "metadata": {
  "ExecuteTimeLog": [
   {
    "duration": 665,
    "start_time": "2024-11-22T07:23:07.709Z"
   },
   {
    "duration": 332,
    "start_time": "2024-11-22T07:23:30.796Z"
   },
   {
    "duration": 416,
    "start_time": "2024-11-22T07:24:02.418Z"
   },
   {
    "duration": 370,
    "start_time": "2024-11-22T07:24:29.308Z"
   },
   {
    "duration": 218,
    "start_time": "2024-11-22T07:25:17.923Z"
   },
   {
    "duration": 36,
    "start_time": "2024-11-22T07:25:27.380Z"
   },
   {
    "duration": 363,
    "start_time": "2024-11-22T07:25:42.478Z"
   },
   {
    "duration": 35,
    "start_time": "2024-11-22T07:25:47.677Z"
   },
   {
    "duration": 15,
    "start_time": "2024-11-22T07:26:22.162Z"
   },
   {
    "duration": 646,
    "start_time": "2024-11-22T07:26:34.220Z"
   },
   {
    "duration": 35,
    "start_time": "2024-11-22T07:26:34.868Z"
   },
   {
    "duration": 12,
    "start_time": "2024-11-22T07:26:34.905Z"
   },
   {
    "duration": 289,
    "start_time": "2024-11-22T07:28:56.022Z"
   },
   {
    "duration": 393,
    "start_time": "2024-11-22T07:28:56.313Z"
   },
   {
    "duration": 37,
    "start_time": "2024-11-22T07:28:56.708Z"
   },
   {
    "duration": 23,
    "start_time": "2024-11-22T07:28:56.747Z"
   },
   {
    "duration": 425,
    "start_time": "2024-11-22T07:30:32.447Z"
   },
   {
    "duration": 453,
    "start_time": "2024-11-22T07:32:11.521Z"
   },
   {
    "duration": 1052,
    "start_time": "2024-11-22T07:34:27.519Z"
   },
   {
    "duration": 446,
    "start_time": "2024-11-22T07:34:43.298Z"
   },
   {
    "duration": 70,
    "start_time": "2024-11-22T07:35:01.204Z"
   },
   {
    "duration": 2,
    "start_time": "2024-11-22T07:35:40.425Z"
   },
   {
    "duration": 320,
    "start_time": "2024-11-22T07:35:40.807Z"
   },
   {
    "duration": 93,
    "start_time": "2024-11-22T07:35:42.197Z"
   },
   {
    "duration": 27,
    "start_time": "2024-11-22T07:35:43.134Z"
   },
   {
    "duration": 25,
    "start_time": "2024-11-22T07:35:44.420Z"
   },
   {
    "duration": 109,
    "start_time": "2024-11-22T07:37:39.389Z"
   },
   {
    "duration": 11,
    "start_time": "2024-11-22T07:37:47.373Z"
   },
   {
    "duration": 276,
    "start_time": "2024-11-22T07:38:44.532Z"
   },
   {
    "duration": 323,
    "start_time": "2024-11-22T07:38:44.810Z"
   },
   {
    "duration": 107,
    "start_time": "2024-11-22T07:38:45.135Z"
   },
   {
    "duration": 30,
    "start_time": "2024-11-22T07:38:45.245Z"
   },
   {
    "duration": 149,
    "start_time": "2024-11-22T07:38:45.277Z"
   },
   {
    "duration": 9,
    "start_time": "2024-11-22T07:38:45.427Z"
   },
   {
    "duration": 13,
    "start_time": "2024-11-22T07:38:45.438Z"
   },
   {
    "duration": 35,
    "start_time": "2024-11-22T07:38:45.470Z"
   },
   {
    "duration": 12,
    "start_time": "2024-11-22T07:38:45.506Z"
   },
   {
    "duration": 29,
    "start_time": "2024-11-22T07:41:01.401Z"
   },
   {
    "duration": 9,
    "start_time": "2024-11-22T07:41:03.363Z"
   },
   {
    "duration": 12,
    "start_time": "2024-11-22T07:41:37.080Z"
   },
   {
    "duration": 5,
    "start_time": "2024-11-22T07:42:14.857Z"
   },
   {
    "duration": 576,
    "start_time": "2024-11-22T07:43:26.495Z"
   },
   {
    "duration": 0,
    "start_time": "2024-11-22T07:43:27.073Z"
   },
   {
    "duration": 10,
    "start_time": "2024-11-22T07:43:41.788Z"
   },
   {
    "duration": 8,
    "start_time": "2024-11-22T07:43:49.310Z"
   },
   {
    "duration": 7,
    "start_time": "2024-11-22T07:44:26.071Z"
   },
   {
    "duration": 11,
    "start_time": "2024-11-22T07:44:37.010Z"
   },
   {
    "duration": 6,
    "start_time": "2024-11-22T07:44:45.092Z"
   },
   {
    "duration": 8,
    "start_time": "2024-11-22T07:44:45.382Z"
   },
   {
    "duration": 5,
    "start_time": "2024-11-22T07:45:01.296Z"
   },
   {
    "duration": 3,
    "start_time": "2024-11-22T07:45:39.630Z"
   },
   {
    "duration": 7,
    "start_time": "2024-11-22T07:45:50.899Z"
   },
   {
    "duration": 279,
    "start_time": "2024-11-22T07:46:12.741Z"
   },
   {
    "duration": 316,
    "start_time": "2024-11-22T07:46:13.022Z"
   },
   {
    "duration": 104,
    "start_time": "2024-11-22T07:46:13.340Z"
   },
   {
    "duration": 29,
    "start_time": "2024-11-22T07:46:13.446Z"
   },
   {
    "duration": 149,
    "start_time": "2024-11-22T07:46:13.478Z"
   },
   {
    "duration": 10,
    "start_time": "2024-11-22T07:46:13.628Z"
   },
   {
    "duration": 38,
    "start_time": "2024-11-22T07:46:13.640Z"
   },
   {
    "duration": 11,
    "start_time": "2024-11-22T07:46:13.679Z"
   },
   {
    "duration": 7,
    "start_time": "2024-11-22T07:46:13.691Z"
   },
   {
    "duration": 10,
    "start_time": "2024-11-22T07:46:13.699Z"
   },
   {
    "duration": 7,
    "start_time": "2024-11-22T07:46:13.711Z"
   },
   {
    "duration": 5,
    "start_time": "2024-11-22T07:46:13.720Z"
   },
   {
    "duration": 7,
    "start_time": "2024-11-22T07:46:13.726Z"
   },
   {
    "duration": 39,
    "start_time": "2024-11-22T07:46:13.735Z"
   },
   {
    "duration": 4,
    "start_time": "2024-11-22T07:46:13.776Z"
   },
   {
    "duration": 6,
    "start_time": "2024-11-22T07:46:13.781Z"
   },
   {
    "duration": 296,
    "start_time": "2024-11-22T07:53:03.124Z"
   },
   {
    "duration": 329,
    "start_time": "2024-11-22T07:53:03.422Z"
   },
   {
    "duration": 108,
    "start_time": "2024-11-22T07:53:03.752Z"
   },
   {
    "duration": 30,
    "start_time": "2024-11-22T07:53:03.863Z"
   },
   {
    "duration": 147,
    "start_time": "2024-11-22T07:53:03.895Z"
   },
   {
    "duration": 8,
    "start_time": "2024-11-22T07:53:04.044Z"
   },
   {
    "duration": 34,
    "start_time": "2024-11-22T07:53:04.054Z"
   },
   {
    "duration": 11,
    "start_time": "2024-11-22T07:53:04.090Z"
   },
   {
    "duration": 6,
    "start_time": "2024-11-22T07:53:04.102Z"
   },
   {
    "duration": 9,
    "start_time": "2024-11-22T07:53:04.111Z"
   },
   {
    "duration": 7,
    "start_time": "2024-11-22T07:53:04.122Z"
   },
   {
    "duration": 5,
    "start_time": "2024-11-22T07:53:04.131Z"
   },
   {
    "duration": 36,
    "start_time": "2024-11-22T07:53:04.138Z"
   },
   {
    "duration": 5,
    "start_time": "2024-11-22T07:53:04.175Z"
   },
   {
    "duration": 3,
    "start_time": "2024-11-22T07:53:04.182Z"
   },
   {
    "duration": 8,
    "start_time": "2024-11-22T07:53:04.186Z"
   },
   {
    "duration": 6,
    "start_time": "2024-11-22T07:53:04.196Z"
   },
   {
    "duration": 537,
    "start_time": "2024-11-22T07:59:55.982Z"
   },
   {
    "duration": 273,
    "start_time": "2024-11-22T08:00:40.239Z"
   },
   {
    "duration": 330,
    "start_time": "2024-11-22T08:00:40.514Z"
   },
   {
    "duration": 106,
    "start_time": "2024-11-22T08:00:40.845Z"
   },
   {
    "duration": 30,
    "start_time": "2024-11-22T08:00:40.954Z"
   },
   {
    "duration": 148,
    "start_time": "2024-11-22T08:00:40.986Z"
   },
   {
    "duration": 10,
    "start_time": "2024-11-22T08:00:41.136Z"
   },
   {
    "duration": 33,
    "start_time": "2024-11-22T08:00:41.148Z"
   },
   {
    "duration": 11,
    "start_time": "2024-11-22T08:00:41.182Z"
   },
   {
    "duration": 7,
    "start_time": "2024-11-22T08:00:41.195Z"
   },
   {
    "duration": 9,
    "start_time": "2024-11-22T08:00:41.206Z"
   },
   {
    "duration": 7,
    "start_time": "2024-11-22T08:00:41.217Z"
   },
   {
    "duration": 5,
    "start_time": "2024-11-22T08:00:41.226Z"
   },
   {
    "duration": 39,
    "start_time": "2024-11-22T08:00:41.233Z"
   },
   {
    "duration": 5,
    "start_time": "2024-11-22T08:00:41.273Z"
   },
   {
    "duration": 3,
    "start_time": "2024-11-22T08:00:41.280Z"
   },
   {
    "duration": 6,
    "start_time": "2024-11-22T08:00:41.285Z"
   },
   {
    "duration": 557,
    "start_time": "2024-11-22T08:00:41.293Z"
   },
   {
    "duration": 0,
    "start_time": "2024-11-22T08:00:41.851Z"
   },
   {
    "duration": 152,
    "start_time": "2024-11-22T08:00:59.772Z"
   },
   {
    "duration": 104,
    "start_time": "2024-11-22T08:02:01.268Z"
   },
   {
    "duration": 106,
    "start_time": "2024-11-22T08:02:23.878Z"
   },
   {
    "duration": 265,
    "start_time": "2024-11-22T08:02:43.417Z"
   },
   {
    "duration": 275,
    "start_time": "2024-11-22T08:03:39.570Z"
   },
   {
    "duration": 25,
    "start_time": "2024-11-22T08:06:03.301Z"
   },
   {
    "duration": 13,
    "start_time": "2024-11-22T08:08:01.920Z"
   },
   {
    "duration": 131,
    "start_time": "2024-11-22T08:08:43.546Z"
   },
   {
    "duration": 326,
    "start_time": "2024-11-22T08:08:53.578Z"
   },
   {
    "duration": 330,
    "start_time": "2024-11-22T08:08:53.906Z"
   },
   {
    "duration": 101,
    "start_time": "2024-11-22T08:08:54.238Z"
   },
   {
    "duration": 35,
    "start_time": "2024-11-22T08:08:54.342Z"
   },
   {
    "duration": 143,
    "start_time": "2024-11-22T08:08:54.380Z"
   },
   {
    "duration": 9,
    "start_time": "2024-11-22T08:08:54.524Z"
   },
   {
    "duration": 39,
    "start_time": "2024-11-22T08:08:54.535Z"
   },
   {
    "duration": 14,
    "start_time": "2024-11-22T08:08:54.576Z"
   },
   {
    "duration": 7,
    "start_time": "2024-11-22T08:08:54.593Z"
   },
   {
    "duration": 10,
    "start_time": "2024-11-22T08:08:54.603Z"
   },
   {
    "duration": 7,
    "start_time": "2024-11-22T08:08:54.615Z"
   },
   {
    "duration": 5,
    "start_time": "2024-11-22T08:08:54.623Z"
   },
   {
    "duration": 6,
    "start_time": "2024-11-22T08:08:54.631Z"
   },
   {
    "duration": 34,
    "start_time": "2024-11-22T08:08:54.639Z"
   },
   {
    "duration": 5,
    "start_time": "2024-11-22T08:08:54.675Z"
   },
   {
    "duration": 7,
    "start_time": "2024-11-22T08:08:54.681Z"
   },
   {
    "duration": 297,
    "start_time": "2024-11-22T08:08:54.690Z"
   },
   {
    "duration": 24,
    "start_time": "2024-11-22T08:08:54.989Z"
   },
   {
    "duration": 14,
    "start_time": "2024-11-22T08:08:55.015Z"
   },
   {
    "duration": 147,
    "start_time": "2024-11-22T08:08:55.031Z"
   },
   {
    "duration": 329,
    "start_time": "2024-11-22T08:26:37.315Z"
   },
   {
    "duration": 102,
    "start_time": "2024-11-22T08:26:37.646Z"
   },
   {
    "duration": 30,
    "start_time": "2024-11-22T08:26:37.750Z"
   },
   {
    "duration": 151,
    "start_time": "2024-11-22T08:26:37.784Z"
   },
   {
    "duration": 10,
    "start_time": "2024-11-22T08:26:37.936Z"
   },
   {
    "duration": 35,
    "start_time": "2024-11-22T08:26:37.948Z"
   },
   {
    "duration": 12,
    "start_time": "2024-11-22T08:26:37.985Z"
   },
   {
    "duration": 6,
    "start_time": "2024-11-22T08:26:37.999Z"
   },
   {
    "duration": 10,
    "start_time": "2024-11-22T08:26:38.007Z"
   },
   {
    "duration": 7,
    "start_time": "2024-11-22T08:26:38.019Z"
   },
   {
    "duration": 5,
    "start_time": "2024-11-22T08:26:38.028Z"
   },
   {
    "duration": 7,
    "start_time": "2024-11-22T08:26:38.035Z"
   },
   {
    "duration": 28,
    "start_time": "2024-11-22T08:26:38.045Z"
   },
   {
    "duration": 4,
    "start_time": "2024-11-22T08:26:38.075Z"
   },
   {
    "duration": 7,
    "start_time": "2024-11-22T08:26:38.081Z"
   },
   {
    "duration": 300,
    "start_time": "2024-11-22T08:26:38.089Z"
   },
   {
    "duration": 24,
    "start_time": "2024-11-22T08:26:38.391Z"
   },
   {
    "duration": 13,
    "start_time": "2024-11-22T08:26:38.417Z"
   },
   {
    "duration": 166,
    "start_time": "2024-11-22T08:26:38.432Z"
   },
   {
    "duration": 2,
    "start_time": "2024-11-22T08:26:38.600Z"
   },
   {
    "duration": 3,
    "start_time": "2024-11-22T08:26:38.604Z"
   },
   {
    "duration": 3,
    "start_time": "2024-11-22T08:26:38.608Z"
   },
   {
    "duration": 3,
    "start_time": "2024-11-22T08:26:38.612Z"
   },
   {
    "duration": 313,
    "start_time": "2024-11-22T08:31:40.296Z"
   },
   {
    "duration": 317,
    "start_time": "2024-11-22T08:31:40.611Z"
   },
   {
    "duration": 102,
    "start_time": "2024-11-22T08:31:40.929Z"
   },
   {
    "duration": 36,
    "start_time": "2024-11-22T08:31:41.034Z"
   },
   {
    "duration": 141,
    "start_time": "2024-11-22T08:31:41.072Z"
   },
   {
    "duration": 9,
    "start_time": "2024-11-22T08:31:41.215Z"
   },
   {
    "duration": 26,
    "start_time": "2024-11-22T08:31:41.226Z"
   },
   {
    "duration": 25,
    "start_time": "2024-11-22T08:31:41.254Z"
   },
   {
    "duration": 6,
    "start_time": "2024-11-22T08:31:41.281Z"
   },
   {
    "duration": 10,
    "start_time": "2024-11-22T08:31:41.290Z"
   },
   {
    "duration": 7,
    "start_time": "2024-11-22T08:31:41.301Z"
   },
   {
    "duration": 5,
    "start_time": "2024-11-22T08:31:41.310Z"
   },
   {
    "duration": 7,
    "start_time": "2024-11-22T08:31:41.316Z"
   },
   {
    "duration": 5,
    "start_time": "2024-11-22T08:31:41.325Z"
   },
   {
    "duration": 39,
    "start_time": "2024-11-22T08:31:41.331Z"
   },
   {
    "duration": 11,
    "start_time": "2024-11-22T08:31:41.372Z"
   },
   {
    "duration": 277,
    "start_time": "2024-11-22T08:31:41.385Z"
   },
   {
    "duration": 24,
    "start_time": "2024-11-22T08:31:41.669Z"
   },
   {
    "duration": 14,
    "start_time": "2024-11-22T08:31:41.695Z"
   },
   {
    "duration": 143,
    "start_time": "2024-11-22T08:31:41.710Z"
   },
   {
    "duration": 2,
    "start_time": "2024-11-22T08:31:41.855Z"
   },
   {
    "duration": 3,
    "start_time": "2024-11-22T08:31:41.869Z"
   },
   {
    "duration": 3,
    "start_time": "2024-11-22T08:31:41.873Z"
   },
   {
    "duration": 2,
    "start_time": "2024-11-22T08:31:41.879Z"
   },
   {
    "duration": 100,
    "start_time": "2024-11-22T08:36:17.788Z"
   },
   {
    "duration": 23,
    "start_time": "2024-11-22T08:36:49.412Z"
   },
   {
    "duration": 3,
    "start_time": "2024-11-22T08:37:24.430Z"
   },
   {
    "duration": 11,
    "start_time": "2024-11-22T08:37:49.460Z"
   },
   {
    "duration": 10,
    "start_time": "2024-11-22T08:38:52.621Z"
   },
   {
    "duration": 4,
    "start_time": "2024-11-22T08:39:01.214Z"
   },
   {
    "duration": 321,
    "start_time": "2024-11-22T08:39:11.581Z"
   },
   {
    "duration": 324,
    "start_time": "2024-11-22T08:39:11.905Z"
   },
   {
    "duration": 101,
    "start_time": "2024-11-22T08:39:12.231Z"
   },
   {
    "duration": 36,
    "start_time": "2024-11-22T08:39:12.335Z"
   },
   {
    "duration": 162,
    "start_time": "2024-11-22T08:39:12.372Z"
   },
   {
    "duration": 10,
    "start_time": "2024-11-22T08:39:12.536Z"
   },
   {
    "duration": 36,
    "start_time": "2024-11-22T08:39:12.548Z"
   },
   {
    "duration": 11,
    "start_time": "2024-11-22T08:39:12.586Z"
   },
   {
    "duration": 6,
    "start_time": "2024-11-22T08:39:12.599Z"
   },
   {
    "duration": 11,
    "start_time": "2024-11-22T08:39:12.609Z"
   },
   {
    "duration": 6,
    "start_time": "2024-11-22T08:39:12.621Z"
   },
   {
    "duration": 5,
    "start_time": "2024-11-22T08:39:12.629Z"
   },
   {
    "duration": 36,
    "start_time": "2024-11-22T08:39:12.635Z"
   },
   {
    "duration": 5,
    "start_time": "2024-11-22T08:39:12.673Z"
   },
   {
    "duration": 3,
    "start_time": "2024-11-22T08:39:12.680Z"
   },
   {
    "duration": 6,
    "start_time": "2024-11-22T08:39:12.685Z"
   },
   {
    "duration": 299,
    "start_time": "2024-11-22T08:39:12.693Z"
   },
   {
    "duration": 24,
    "start_time": "2024-11-22T08:39:12.994Z"
   },
   {
    "duration": 13,
    "start_time": "2024-11-22T08:39:13.019Z"
   },
   {
    "duration": 142,
    "start_time": "2024-11-22T08:39:13.035Z"
   },
   {
    "duration": 2,
    "start_time": "2024-11-22T08:39:13.179Z"
   },
   {
    "duration": 23,
    "start_time": "2024-11-22T08:39:13.183Z"
   },
   {
    "duration": 4,
    "start_time": "2024-11-22T08:39:13.207Z"
   },
   {
    "duration": 10,
    "start_time": "2024-11-22T08:39:13.213Z"
   },
   {
    "duration": 89,
    "start_time": "2024-11-22T08:41:58.767Z"
   },
   {
    "duration": 616,
    "start_time": "2024-11-22T08:42:40.008Z"
   },
   {
    "duration": 90,
    "start_time": "2024-11-22T08:42:55.704Z"
   },
   {
    "duration": 288,
    "start_time": "2024-11-22T08:45:07.243Z"
   },
   {
    "duration": 330,
    "start_time": "2024-11-22T08:45:07.533Z"
   },
   {
    "duration": 114,
    "start_time": "2024-11-22T08:45:07.865Z"
   },
   {
    "duration": 26,
    "start_time": "2024-11-22T08:45:07.981Z"
   },
   {
    "duration": 152,
    "start_time": "2024-11-22T08:45:08.010Z"
   },
   {
    "duration": 9,
    "start_time": "2024-11-22T08:45:08.163Z"
   },
   {
    "duration": 26,
    "start_time": "2024-11-22T08:45:08.174Z"
   },
   {
    "duration": 12,
    "start_time": "2024-11-22T08:45:08.201Z"
   },
   {
    "duration": 6,
    "start_time": "2024-11-22T08:45:08.215Z"
   },
   {
    "duration": 10,
    "start_time": "2024-11-22T08:45:08.222Z"
   },
   {
    "duration": 40,
    "start_time": "2024-11-22T08:45:08.234Z"
   },
   {
    "duration": 6,
    "start_time": "2024-11-22T08:45:08.276Z"
   },
   {
    "duration": 7,
    "start_time": "2024-11-22T08:45:08.284Z"
   },
   {
    "duration": 5,
    "start_time": "2024-11-22T08:45:08.294Z"
   },
   {
    "duration": 4,
    "start_time": "2024-11-22T08:45:08.300Z"
   },
   {
    "duration": 6,
    "start_time": "2024-11-22T08:45:08.308Z"
   },
   {
    "duration": 311,
    "start_time": "2024-11-22T08:45:08.316Z"
   },
   {
    "duration": 26,
    "start_time": "2024-11-22T08:45:08.628Z"
   },
   {
    "duration": 27,
    "start_time": "2024-11-22T08:45:08.655Z"
   },
   {
    "duration": 138,
    "start_time": "2024-11-22T08:45:08.683Z"
   },
   {
    "duration": 98,
    "start_time": "2024-11-22T08:45:08.822Z"
   },
   {
    "duration": 24,
    "start_time": "2024-11-22T08:45:08.922Z"
   },
   {
    "duration": 4,
    "start_time": "2024-11-22T08:45:08.948Z"
   },
   {
    "duration": 25,
    "start_time": "2024-11-22T08:45:08.953Z"
   },
   {
    "duration": 11,
    "start_time": "2024-11-22T09:02:19.463Z"
   },
   {
    "duration": 5,
    "start_time": "2024-11-22T09:02:59.807Z"
   },
   {
    "duration": 12,
    "start_time": "2024-11-22T09:03:17.954Z"
   },
   {
    "duration": 11,
    "start_time": "2024-11-22T09:03:52.742Z"
   },
   {
    "duration": 11,
    "start_time": "2024-11-22T09:04:10.997Z"
   },
   {
    "duration": 2136,
    "start_time": "2024-11-22T09:05:20.562Z"
   },
   {
    "duration": 339,
    "start_time": "2024-11-22T09:05:22.701Z"
   },
   {
    "duration": 105,
    "start_time": "2024-11-22T09:05:23.041Z"
   },
   {
    "duration": 32,
    "start_time": "2024-11-22T09:05:23.149Z"
   },
   {
    "duration": 173,
    "start_time": "2024-11-22T09:05:23.184Z"
   },
   {
    "duration": 18,
    "start_time": "2024-11-22T09:05:23.359Z"
   },
   {
    "duration": 27,
    "start_time": "2024-11-22T09:05:23.378Z"
   },
   {
    "duration": 11,
    "start_time": "2024-11-22T09:05:23.407Z"
   },
   {
    "duration": 6,
    "start_time": "2024-11-22T09:05:23.420Z"
   },
   {
    "duration": 9,
    "start_time": "2024-11-22T09:05:23.428Z"
   },
   {
    "duration": 32,
    "start_time": "2024-11-22T09:05:23.439Z"
   },
   {
    "duration": 6,
    "start_time": "2024-11-22T09:05:23.472Z"
   },
   {
    "duration": 7,
    "start_time": "2024-11-22T09:05:23.479Z"
   },
   {
    "duration": 5,
    "start_time": "2024-11-22T09:05:23.490Z"
   },
   {
    "duration": 3,
    "start_time": "2024-11-22T09:05:23.496Z"
   },
   {
    "duration": 7,
    "start_time": "2024-11-22T09:05:23.501Z"
   },
   {
    "duration": 311,
    "start_time": "2024-11-22T09:05:23.509Z"
   },
   {
    "duration": 25,
    "start_time": "2024-11-22T09:05:23.822Z"
   },
   {
    "duration": 28,
    "start_time": "2024-11-22T09:05:23.848Z"
   },
   {
    "duration": 140,
    "start_time": "2024-11-22T09:05:23.878Z"
   },
   {
    "duration": 103,
    "start_time": "2024-11-22T09:05:24.019Z"
   },
   {
    "duration": 24,
    "start_time": "2024-11-22T09:05:24.124Z"
   },
   {
    "duration": 3,
    "start_time": "2024-11-22T09:05:24.150Z"
   },
   {
    "duration": 11,
    "start_time": "2024-11-22T09:05:24.170Z"
   },
   {
    "duration": 11,
    "start_time": "2024-11-22T09:05:24.183Z"
   },
   {
    "duration": 250,
    "start_time": "2024-11-22T09:05:24.196Z"
   },
   {
    "duration": 2,
    "start_time": "2024-11-22T09:05:24.449Z"
   },
   {
    "duration": 3,
    "start_time": "2024-11-22T09:05:24.453Z"
   },
   {
    "duration": 199,
    "start_time": "2024-11-22T09:12:16.822Z"
   },
   {
    "duration": 159,
    "start_time": "2024-11-22T09:16:09.966Z"
   },
   {
    "duration": 116,
    "start_time": "2024-11-22T09:17:08.626Z"
   },
   {
    "duration": 113,
    "start_time": "2024-11-22T09:17:25.744Z"
   },
   {
    "duration": 403,
    "start_time": "2024-11-22T09:17:54.522Z"
   },
   {
    "duration": 356,
    "start_time": "2024-11-22T09:17:54.927Z"
   },
   {
    "duration": 104,
    "start_time": "2024-11-22T09:17:55.285Z"
   },
   {
    "duration": 26,
    "start_time": "2024-11-22T09:17:55.391Z"
   },
   {
    "duration": 155,
    "start_time": "2024-11-22T09:17:55.420Z"
   },
   {
    "duration": 9,
    "start_time": "2024-11-22T09:17:55.576Z"
   },
   {
    "duration": 25,
    "start_time": "2024-11-22T09:17:55.587Z"
   },
   {
    "duration": 10,
    "start_time": "2024-11-22T09:17:55.614Z"
   },
   {
    "duration": 6,
    "start_time": "2024-11-22T09:17:55.627Z"
   },
   {
    "duration": 10,
    "start_time": "2024-11-22T09:17:55.634Z"
   },
   {
    "duration": 7,
    "start_time": "2024-11-22T09:17:55.670Z"
   },
   {
    "duration": 6,
    "start_time": "2024-11-22T09:17:55.679Z"
   },
   {
    "duration": 7,
    "start_time": "2024-11-22T09:17:55.686Z"
   },
   {
    "duration": 5,
    "start_time": "2024-11-22T09:17:55.698Z"
   },
   {
    "duration": 3,
    "start_time": "2024-11-22T09:17:55.705Z"
   },
   {
    "duration": 7,
    "start_time": "2024-11-22T09:17:55.709Z"
   },
   {
    "duration": 307,
    "start_time": "2024-11-22T09:17:55.717Z"
   },
   {
    "duration": 24,
    "start_time": "2024-11-22T09:17:56.026Z"
   },
   {
    "duration": 24,
    "start_time": "2024-11-22T09:17:56.052Z"
   },
   {
    "duration": 135,
    "start_time": "2024-11-22T09:17:56.077Z"
   },
   {
    "duration": 94,
    "start_time": "2024-11-22T09:17:56.214Z"
   },
   {
    "duration": 25,
    "start_time": "2024-11-22T09:17:56.310Z"
   },
   {
    "duration": 4,
    "start_time": "2024-11-22T09:17:56.337Z"
   },
   {
    "duration": 28,
    "start_time": "2024-11-22T09:17:56.343Z"
   },
   {
    "duration": 11,
    "start_time": "2024-11-22T09:17:56.372Z"
   },
   {
    "duration": 215,
    "start_time": "2024-11-22T09:17:56.384Z"
   },
   {
    "duration": 119,
    "start_time": "2024-11-22T09:17:56.601Z"
   },
   {
    "duration": 204,
    "start_time": "2024-11-22T09:17:56.722Z"
   },
   {
    "duration": 173,
    "start_time": "2024-11-22T09:17:56.928Z"
   },
   {
    "duration": 437,
    "start_time": "2024-11-22T09:46:15.298Z"
   },
   {
    "duration": 357,
    "start_time": "2024-11-22T09:46:15.738Z"
   },
   {
    "duration": 110,
    "start_time": "2024-11-22T09:46:16.096Z"
   },
   {
    "duration": 25,
    "start_time": "2024-11-22T09:46:16.208Z"
   },
   {
    "duration": 161,
    "start_time": "2024-11-22T09:46:16.234Z"
   },
   {
    "duration": 10,
    "start_time": "2024-11-22T09:46:16.396Z"
   },
   {
    "duration": 26,
    "start_time": "2024-11-22T09:46:16.407Z"
   },
   {
    "duration": 11,
    "start_time": "2024-11-22T09:46:16.434Z"
   },
   {
    "duration": 23,
    "start_time": "2024-11-22T09:46:16.447Z"
   },
   {
    "duration": 11,
    "start_time": "2024-11-22T09:46:16.474Z"
   },
   {
    "duration": 7,
    "start_time": "2024-11-22T09:46:16.486Z"
   },
   {
    "duration": 5,
    "start_time": "2024-11-22T09:46:16.495Z"
   },
   {
    "duration": 7,
    "start_time": "2024-11-22T09:46:16.501Z"
   },
   {
    "duration": 4,
    "start_time": "2024-11-22T09:46:16.510Z"
   },
   {
    "duration": 3,
    "start_time": "2024-11-22T09:46:16.516Z"
   },
   {
    "duration": 7,
    "start_time": "2024-11-22T09:46:16.520Z"
   },
   {
    "duration": 331,
    "start_time": "2024-11-22T09:46:16.529Z"
   },
   {
    "duration": 31,
    "start_time": "2024-11-22T09:46:16.862Z"
   },
   {
    "duration": 15,
    "start_time": "2024-11-22T09:46:16.894Z"
   },
   {
    "duration": 143,
    "start_time": "2024-11-22T09:46:16.910Z"
   },
   {
    "duration": 100,
    "start_time": "2024-11-22T09:46:17.055Z"
   },
   {
    "duration": 41,
    "start_time": "2024-11-22T09:46:17.157Z"
   },
   {
    "duration": 4,
    "start_time": "2024-11-22T09:46:17.200Z"
   },
   {
    "duration": 11,
    "start_time": "2024-11-22T09:46:17.205Z"
   },
   {
    "duration": 11,
    "start_time": "2024-11-22T09:46:17.217Z"
   },
   {
    "duration": 201,
    "start_time": "2024-11-22T09:46:17.229Z"
   },
   {
    "duration": 118,
    "start_time": "2024-11-22T09:46:17.432Z"
   },
   {
    "duration": 200,
    "start_time": "2024-11-22T09:46:17.554Z"
   },
   {
    "duration": 166,
    "start_time": "2024-11-22T09:46:17.756Z"
   },
   {
    "duration": 166,
    "start_time": "2024-11-25T08:53:17.407Z"
   },
   {
    "duration": 2131,
    "start_time": "2024-11-25T08:53:28.271Z"
   },
   {
    "duration": 366,
    "start_time": "2024-11-25T08:53:30.404Z"
   },
   {
    "duration": 104,
    "start_time": "2024-11-25T08:53:30.772Z"
   },
   {
    "duration": 24,
    "start_time": "2024-11-25T08:53:30.878Z"
   },
   {
    "duration": 154,
    "start_time": "2024-11-25T08:53:30.905Z"
   },
   {
    "duration": 14,
    "start_time": "2024-11-25T08:53:31.060Z"
   },
   {
    "duration": 43,
    "start_time": "2024-11-25T08:53:31.076Z"
   },
   {
    "duration": 12,
    "start_time": "2024-11-25T08:53:31.121Z"
   },
   {
    "duration": 7,
    "start_time": "2024-11-25T08:53:31.135Z"
   },
   {
    "duration": 9,
    "start_time": "2024-11-25T08:53:31.144Z"
   },
   {
    "duration": 15,
    "start_time": "2024-11-25T08:53:31.155Z"
   },
   {
    "duration": 9,
    "start_time": "2024-11-25T08:53:31.172Z"
   },
   {
    "duration": 6,
    "start_time": "2024-11-25T08:53:31.183Z"
   },
   {
    "duration": 4,
    "start_time": "2024-11-25T08:53:31.194Z"
   },
   {
    "duration": 4,
    "start_time": "2024-11-25T08:53:31.200Z"
   },
   {
    "duration": 7,
    "start_time": "2024-11-25T08:53:31.205Z"
   },
   {
    "duration": 312,
    "start_time": "2024-11-25T08:53:31.213Z"
   },
   {
    "duration": 24,
    "start_time": "2024-11-25T08:53:31.527Z"
   },
   {
    "duration": 26,
    "start_time": "2024-11-25T08:53:31.554Z"
   },
   {
    "duration": 139,
    "start_time": "2024-11-25T08:53:31.582Z"
   },
   {
    "duration": 99,
    "start_time": "2024-11-25T08:53:31.722Z"
   },
   {
    "duration": 23,
    "start_time": "2024-11-25T08:53:31.823Z"
   },
   {
    "duration": 3,
    "start_time": "2024-11-25T08:53:31.848Z"
   },
   {
    "duration": 10,
    "start_time": "2024-11-25T08:53:31.870Z"
   },
   {
    "duration": 11,
    "start_time": "2024-11-25T08:53:31.882Z"
   },
   {
    "duration": 246,
    "start_time": "2024-11-25T08:53:31.896Z"
   },
   {
    "duration": 119,
    "start_time": "2024-11-25T08:53:32.144Z"
   },
   {
    "duration": 206,
    "start_time": "2024-11-25T08:53:32.265Z"
   },
   {
    "duration": 168,
    "start_time": "2024-11-25T08:53:32.472Z"
   },
   {
    "duration": 39,
    "start_time": "2024-11-25T08:59:53.797Z"
   },
   {
    "duration": 24,
    "start_time": "2024-11-25T09:00:51.659Z"
   },
   {
    "duration": 25,
    "start_time": "2024-11-25T09:01:01.867Z"
   },
   {
    "duration": 13,
    "start_time": "2024-11-25T09:01:56.480Z"
   },
   {
    "duration": 420,
    "start_time": "2024-11-25T09:02:19.121Z"
   },
   {
    "duration": 384,
    "start_time": "2024-11-25T09:02:19.543Z"
   },
   {
    "duration": 109,
    "start_time": "2024-11-25T09:02:19.929Z"
   },
   {
    "duration": 33,
    "start_time": "2024-11-25T09:02:20.040Z"
   },
   {
    "duration": 165,
    "start_time": "2024-11-25T09:02:20.075Z"
   },
   {
    "duration": 10,
    "start_time": "2024-11-25T09:02:20.243Z"
   },
   {
    "duration": 26,
    "start_time": "2024-11-25T09:02:20.256Z"
   },
   {
    "duration": 26,
    "start_time": "2024-11-25T09:02:20.284Z"
   },
   {
    "duration": 12,
    "start_time": "2024-11-25T09:02:20.312Z"
   },
   {
    "duration": 5,
    "start_time": "2024-11-25T09:02:20.328Z"
   },
   {
    "duration": 40,
    "start_time": "2024-11-25T09:02:20.335Z"
   },
   {
    "duration": 7,
    "start_time": "2024-11-25T09:02:20.377Z"
   },
   {
    "duration": 10,
    "start_time": "2024-11-25T09:02:20.386Z"
   },
   {
    "duration": 5,
    "start_time": "2024-11-25T09:02:20.398Z"
   },
   {
    "duration": 7,
    "start_time": "2024-11-25T09:02:20.405Z"
   },
   {
    "duration": 5,
    "start_time": "2024-11-25T09:02:20.414Z"
   },
   {
    "duration": 3,
    "start_time": "2024-11-25T09:02:20.421Z"
   },
   {
    "duration": 45,
    "start_time": "2024-11-25T09:02:20.426Z"
   },
   {
    "duration": 10,
    "start_time": "2024-11-25T09:02:20.473Z"
   },
   {
    "duration": 305,
    "start_time": "2024-11-25T09:02:20.484Z"
   },
   {
    "duration": 25,
    "start_time": "2024-11-25T09:02:20.790Z"
   },
   {
    "duration": 15,
    "start_time": "2024-11-25T09:02:20.818Z"
   },
   {
    "duration": 151,
    "start_time": "2024-11-25T09:02:20.835Z"
   },
   {
    "duration": 102,
    "start_time": "2024-11-25T09:02:20.989Z"
   },
   {
    "duration": 23,
    "start_time": "2024-11-25T09:02:21.093Z"
   },
   {
    "duration": 4,
    "start_time": "2024-11-25T09:02:21.118Z"
   },
   {
    "duration": 11,
    "start_time": "2024-11-25T09:02:21.123Z"
   },
   {
    "duration": 39,
    "start_time": "2024-11-25T09:02:21.138Z"
   },
   {
    "duration": 215,
    "start_time": "2024-11-25T09:02:21.179Z"
   },
   {
    "duration": 120,
    "start_time": "2024-11-25T09:02:21.396Z"
   },
   {
    "duration": 228,
    "start_time": "2024-11-25T09:02:21.518Z"
   },
   {
    "duration": 181,
    "start_time": "2024-11-25T09:02:21.748Z"
   },
   {
    "duration": 1110,
    "start_time": "2024-11-25T09:08:03.467Z"
   },
   {
    "duration": 1223,
    "start_time": "2024-11-25T09:08:26.576Z"
   },
   {
    "duration": 1143,
    "start_time": "2024-11-25T09:09:06.620Z"
   },
   {
    "duration": 154,
    "start_time": "2024-11-25T09:09:54.930Z"
   },
   {
    "duration": 155,
    "start_time": "2024-11-25T09:10:23.217Z"
   },
   {
    "duration": 182,
    "start_time": "2024-11-25T09:11:42.250Z"
   },
   {
    "duration": 13,
    "start_time": "2024-11-25T09:12:13.324Z"
   },
   {
    "duration": 14,
    "start_time": "2024-11-25T09:13:35.735Z"
   },
   {
    "duration": 66,
    "start_time": "2024-11-25T09:14:57.232Z"
   },
   {
    "duration": 194,
    "start_time": "2024-11-25T09:16:33.165Z"
   },
   {
    "duration": 190,
    "start_time": "2024-11-25T09:16:43.435Z"
   },
   {
    "duration": 98,
    "start_time": "2024-11-25T09:16:55.367Z"
   },
   {
    "duration": 103,
    "start_time": "2024-11-25T09:17:17.175Z"
   },
   {
    "duration": 143,
    "start_time": "2024-11-25T09:17:55.387Z"
   },
   {
    "duration": 89,
    "start_time": "2024-11-25T09:18:03.256Z"
   },
   {
    "duration": 173,
    "start_time": "2024-11-25T09:18:19.558Z"
   },
   {
    "duration": 80,
    "start_time": "2024-11-25T09:18:32.116Z"
   },
   {
    "duration": 87,
    "start_time": "2024-11-25T09:18:46.466Z"
   },
   {
    "duration": 15,
    "start_time": "2024-11-25T09:18:58.494Z"
   },
   {
    "duration": 79,
    "start_time": "2024-11-25T09:19:03.862Z"
   },
   {
    "duration": 87,
    "start_time": "2024-11-25T09:20:28.272Z"
   },
   {
    "duration": 7,
    "start_time": "2024-11-25T09:20:44.391Z"
   },
   {
    "duration": 84,
    "start_time": "2024-11-25T09:21:25.459Z"
   },
   {
    "duration": 5,
    "start_time": "2024-11-25T09:22:26.891Z"
   },
   {
    "duration": 159,
    "start_time": "2024-11-25T09:30:54.701Z"
   },
   {
    "duration": 4,
    "start_time": "2024-11-25T09:31:20.024Z"
   },
   {
    "duration": 152,
    "start_time": "2024-11-25T09:31:30.023Z"
   },
   {
    "duration": 132,
    "start_time": "2024-11-25T09:32:19.443Z"
   },
   {
    "duration": 135,
    "start_time": "2024-11-25T09:32:29.578Z"
   },
   {
    "duration": 134,
    "start_time": "2024-11-25T09:34:22.968Z"
   },
   {
    "duration": 202,
    "start_time": "2024-11-25T09:34:41.303Z"
   },
   {
    "duration": 22,
    "start_time": "2024-11-25T09:40:22.215Z"
   },
   {
    "duration": 1080,
    "start_time": "2024-11-25T09:45:42.529Z"
   },
   {
    "duration": 10,
    "start_time": "2024-11-25T09:46:46.258Z"
   },
   {
    "duration": 494,
    "start_time": "2024-11-25T09:47:46.496Z"
   },
   {
    "duration": 269,
    "start_time": "2024-11-25T09:48:11.818Z"
   },
   {
    "duration": 194,
    "start_time": "2024-11-25T09:48:39.966Z"
   },
   {
    "duration": 15,
    "start_time": "2024-11-25T09:48:58.841Z"
   },
   {
    "duration": 271,
    "start_time": "2024-11-25T09:49:20.045Z"
   },
   {
    "duration": 24,
    "start_time": "2024-11-25T09:49:35.259Z"
   },
   {
    "duration": 419,
    "start_time": "2024-11-25T09:49:46.174Z"
   },
   {
    "duration": 399,
    "start_time": "2024-11-25T09:49:58.836Z"
   },
   {
    "duration": 357,
    "start_time": "2024-11-25T09:49:59.237Z"
   },
   {
    "duration": 111,
    "start_time": "2024-11-25T09:49:59.596Z"
   },
   {
    "duration": 27,
    "start_time": "2024-11-25T09:49:59.709Z"
   },
   {
    "duration": 151,
    "start_time": "2024-11-25T09:49:59.738Z"
   },
   {
    "duration": 10,
    "start_time": "2024-11-25T09:49:59.890Z"
   },
   {
    "duration": 13,
    "start_time": "2024-11-25T09:49:59.902Z"
   },
   {
    "duration": 27,
    "start_time": "2024-11-25T09:49:59.917Z"
   },
   {
    "duration": 31,
    "start_time": "2024-11-25T09:49:59.946Z"
   },
   {
    "duration": 6,
    "start_time": "2024-11-25T09:49:59.980Z"
   },
   {
    "duration": 10,
    "start_time": "2024-11-25T09:49:59.987Z"
   },
   {
    "duration": 9,
    "start_time": "2024-11-25T09:49:59.998Z"
   },
   {
    "duration": 9,
    "start_time": "2024-11-25T09:50:00.009Z"
   },
   {
    "duration": 7,
    "start_time": "2024-11-25T09:50:00.020Z"
   },
   {
    "duration": 8,
    "start_time": "2024-11-25T09:50:00.028Z"
   },
   {
    "duration": 4,
    "start_time": "2024-11-25T09:50:00.071Z"
   },
   {
    "duration": 4,
    "start_time": "2024-11-25T09:50:00.077Z"
   },
   {
    "duration": 7,
    "start_time": "2024-11-25T09:50:00.082Z"
   },
   {
    "duration": 10,
    "start_time": "2024-11-25T09:50:00.090Z"
   },
   {
    "duration": 306,
    "start_time": "2024-11-25T09:50:00.102Z"
   },
   {
    "duration": 1163,
    "start_time": "2024-11-25T09:50:00.410Z"
   },
   {
    "duration": 24,
    "start_time": "2024-11-25T09:50:01.576Z"
   },
   {
    "duration": 176,
    "start_time": "2024-11-25T09:50:01.602Z"
   },
   {
    "duration": 15,
    "start_time": "2024-11-25T09:50:01.779Z"
   },
   {
    "duration": 139,
    "start_time": "2024-11-25T09:50:01.796Z"
   },
   {
    "duration": 198,
    "start_time": "2024-11-25T09:50:01.937Z"
   },
   {
    "duration": 0,
    "start_time": "2024-11-25T09:50:02.137Z"
   },
   {
    "duration": 0,
    "start_time": "2024-11-25T09:50:02.140Z"
   },
   {
    "duration": 0,
    "start_time": "2024-11-25T09:50:02.141Z"
   },
   {
    "duration": 0,
    "start_time": "2024-11-25T09:50:02.142Z"
   },
   {
    "duration": 0,
    "start_time": "2024-11-25T09:50:02.143Z"
   },
   {
    "duration": 0,
    "start_time": "2024-11-25T09:50:02.144Z"
   },
   {
    "duration": 0,
    "start_time": "2024-11-25T09:50:02.145Z"
   },
   {
    "duration": 0,
    "start_time": "2024-11-25T09:50:02.145Z"
   },
   {
    "duration": 0,
    "start_time": "2024-11-25T09:50:02.147Z"
   },
   {
    "duration": 0,
    "start_time": "2024-11-25T09:50:02.148Z"
   },
   {
    "duration": 0,
    "start_time": "2024-11-25T09:50:02.149Z"
   },
   {
    "duration": 421,
    "start_time": "2024-11-25T09:50:46.063Z"
   },
   {
    "duration": 376,
    "start_time": "2024-11-25T09:50:46.487Z"
   },
   {
    "duration": 110,
    "start_time": "2024-11-25T09:50:46.864Z"
   },
   {
    "duration": 27,
    "start_time": "2024-11-25T09:50:46.976Z"
   },
   {
    "duration": 150,
    "start_time": "2024-11-25T09:50:47.006Z"
   },
   {
    "duration": 19,
    "start_time": "2024-11-25T09:50:47.157Z"
   },
   {
    "duration": 18,
    "start_time": "2024-11-25T09:50:47.177Z"
   },
   {
    "duration": 29,
    "start_time": "2024-11-25T09:50:47.196Z"
   },
   {
    "duration": 12,
    "start_time": "2024-11-25T09:50:47.226Z"
   },
   {
    "duration": 6,
    "start_time": "2024-11-25T09:50:47.240Z"
   },
   {
    "duration": 10,
    "start_time": "2024-11-25T09:50:47.269Z"
   },
   {
    "duration": 6,
    "start_time": "2024-11-25T09:50:47.281Z"
   },
   {
    "duration": 9,
    "start_time": "2024-11-25T09:50:47.289Z"
   },
   {
    "duration": 5,
    "start_time": "2024-11-25T09:50:47.302Z"
   },
   {
    "duration": 7,
    "start_time": "2024-11-25T09:50:47.308Z"
   },
   {
    "duration": 5,
    "start_time": "2024-11-25T09:50:47.317Z"
   },
   {
    "duration": 4,
    "start_time": "2024-11-25T09:50:47.324Z"
   },
   {
    "duration": 7,
    "start_time": "2024-11-25T09:50:47.369Z"
   },
   {
    "duration": 9,
    "start_time": "2024-11-25T09:50:47.378Z"
   },
   {
    "duration": 299,
    "start_time": "2024-11-25T09:50:47.389Z"
   },
   {
    "duration": 1141,
    "start_time": "2024-11-25T09:50:47.690Z"
   },
   {
    "duration": 25,
    "start_time": "2024-11-25T09:50:48.832Z"
   },
   {
    "duration": 160,
    "start_time": "2024-11-25T09:50:48.870Z"
   },
   {
    "duration": 22,
    "start_time": "2024-11-25T09:50:49.031Z"
   },
   {
    "duration": 136,
    "start_time": "2024-11-25T09:50:49.055Z"
   },
   {
    "duration": 195,
    "start_time": "2024-11-25T09:50:49.193Z"
   },
   {
    "duration": 0,
    "start_time": "2024-11-25T09:50:49.390Z"
   },
   {
    "duration": 0,
    "start_time": "2024-11-25T09:50:49.391Z"
   },
   {
    "duration": 0,
    "start_time": "2024-11-25T09:50:49.393Z"
   },
   {
    "duration": 0,
    "start_time": "2024-11-25T09:50:49.395Z"
   },
   {
    "duration": 0,
    "start_time": "2024-11-25T09:50:49.396Z"
   },
   {
    "duration": 0,
    "start_time": "2024-11-25T09:50:49.397Z"
   },
   {
    "duration": 0,
    "start_time": "2024-11-25T09:50:49.398Z"
   },
   {
    "duration": 0,
    "start_time": "2024-11-25T09:50:49.399Z"
   },
   {
    "duration": 0,
    "start_time": "2024-11-25T09:50:49.400Z"
   },
   {
    "duration": 0,
    "start_time": "2024-11-25T09:50:49.401Z"
   },
   {
    "duration": 0,
    "start_time": "2024-11-25T09:50:49.402Z"
   },
   {
    "duration": 61,
    "start_time": "2024-11-25T09:51:03.671Z"
   },
   {
    "duration": 500,
    "start_time": "2024-11-25T09:51:47.715Z"
   },
   {
    "duration": 91,
    "start_time": "2024-11-25T09:52:19.637Z"
   },
   {
    "duration": 134,
    "start_time": "2024-11-25T09:52:22.081Z"
   },
   {
    "duration": 24,
    "start_time": "2024-11-25T09:52:25.389Z"
   },
   {
    "duration": 4,
    "start_time": "2024-11-25T09:52:29.279Z"
   },
   {
    "duration": 10,
    "start_time": "2024-11-25T09:52:35.400Z"
   },
   {
    "duration": 752,
    "start_time": "2024-11-25T09:52:38.376Z"
   },
   {
    "duration": 85,
    "start_time": "2024-11-25T09:53:19.029Z"
   },
   {
    "duration": 278,
    "start_time": "2024-11-25T09:53:44.508Z"
   },
   {
    "duration": 541,
    "start_time": "2024-11-25T09:55:16.044Z"
   },
   {
    "duration": 96,
    "start_time": "2024-11-25T09:56:07.160Z"
   },
   {
    "duration": 18,
    "start_time": "2024-11-25T09:56:46.618Z"
   },
   {
    "duration": 157,
    "start_time": "2024-11-25T09:57:27.793Z"
   },
   {
    "duration": 1098,
    "start_time": "2024-11-25T10:00:11.791Z"
   },
   {
    "duration": 968,
    "start_time": "2024-11-25T10:03:37.536Z"
   },
   {
    "duration": 149,
    "start_time": "2024-11-25T10:03:53.102Z"
   },
   {
    "duration": 927,
    "start_time": "2024-11-25T10:04:07.282Z"
   },
   {
    "duration": 941,
    "start_time": "2024-11-25T10:04:43.173Z"
   },
   {
    "duration": 1067,
    "start_time": "2024-11-25T10:05:19.723Z"
   },
   {
    "duration": 922,
    "start_time": "2024-11-25T10:06:04.010Z"
   },
   {
    "duration": 951,
    "start_time": "2024-11-25T10:06:32.019Z"
   },
   {
    "duration": 962,
    "start_time": "2024-11-25T10:06:45.878Z"
   },
   {
    "duration": 394,
    "start_time": "2024-11-25T10:07:53.154Z"
   },
   {
    "duration": 355,
    "start_time": "2024-11-25T10:07:53.550Z"
   },
   {
    "duration": 104,
    "start_time": "2024-11-25T10:07:53.909Z"
   },
   {
    "duration": 26,
    "start_time": "2024-11-25T10:07:54.017Z"
   },
   {
    "duration": 152,
    "start_time": "2024-11-25T10:07:54.044Z"
   },
   {
    "duration": 9,
    "start_time": "2024-11-25T10:07:54.198Z"
   },
   {
    "duration": 13,
    "start_time": "2024-11-25T10:07:54.209Z"
   },
   {
    "duration": 27,
    "start_time": "2024-11-25T10:07:54.223Z"
   },
   {
    "duration": 28,
    "start_time": "2024-11-25T10:07:54.251Z"
   },
   {
    "duration": 4,
    "start_time": "2024-11-25T10:07:54.283Z"
   },
   {
    "duration": 10,
    "start_time": "2024-11-25T10:07:54.289Z"
   },
   {
    "duration": 7,
    "start_time": "2024-11-25T10:07:54.301Z"
   },
   {
    "duration": 9,
    "start_time": "2024-11-25T10:07:54.309Z"
   },
   {
    "duration": 6,
    "start_time": "2024-11-25T10:07:54.319Z"
   },
   {
    "duration": 44,
    "start_time": "2024-11-25T10:07:54.326Z"
   },
   {
    "duration": 5,
    "start_time": "2024-11-25T10:07:54.372Z"
   },
   {
    "duration": 3,
    "start_time": "2024-11-25T10:07:54.379Z"
   },
   {
    "duration": 6,
    "start_time": "2024-11-25T10:07:54.384Z"
   },
   {
    "duration": 9,
    "start_time": "2024-11-25T10:07:54.392Z"
   },
   {
    "duration": 300,
    "start_time": "2024-11-25T10:07:54.403Z"
   },
   {
    "duration": 1132,
    "start_time": "2024-11-25T10:07:54.705Z"
   },
   {
    "duration": 24,
    "start_time": "2024-11-25T10:07:55.839Z"
   },
   {
    "duration": 161,
    "start_time": "2024-11-25T10:07:55.871Z"
   },
   {
    "duration": 15,
    "start_time": "2024-11-25T10:07:56.034Z"
   },
   {
    "duration": 144,
    "start_time": "2024-11-25T10:07:56.051Z"
   },
   {
    "duration": 93,
    "start_time": "2024-11-25T10:07:56.196Z"
   },
   {
    "duration": 98,
    "start_time": "2024-11-25T10:07:56.291Z"
   },
   {
    "duration": 142,
    "start_time": "2024-11-25T10:07:56.393Z"
   },
   {
    "duration": 39,
    "start_time": "2024-11-25T10:07:56.537Z"
   },
   {
    "duration": 4,
    "start_time": "2024-11-25T10:07:56.578Z"
   },
   {
    "duration": 10,
    "start_time": "2024-11-25T10:07:56.584Z"
   },
   {
    "duration": 587,
    "start_time": "2024-11-25T10:07:56.596Z"
   },
   {
    "duration": 0,
    "start_time": "2024-11-25T10:07:57.185Z"
   },
   {
    "duration": 0,
    "start_time": "2024-11-25T10:07:57.188Z"
   },
   {
    "duration": 0,
    "start_time": "2024-11-25T10:07:57.192Z"
   },
   {
    "duration": 0,
    "start_time": "2024-11-25T10:07:57.193Z"
   },
   {
    "duration": 0,
    "start_time": "2024-11-25T10:07:57.194Z"
   },
   {
    "duration": 79,
    "start_time": "2024-11-25T10:09:59.124Z"
   },
   {
    "duration": 133,
    "start_time": "2024-11-25T10:10:17.890Z"
   },
   {
    "duration": 76,
    "start_time": "2024-11-25T10:10:49.647Z"
   },
   {
    "duration": 1327,
    "start_time": "2024-11-25T10:10:59.103Z"
   },
   {
    "duration": 817,
    "start_time": "2024-11-25T10:11:15.994Z"
   },
   {
    "duration": 341,
    "start_time": "2024-11-25T10:11:16.813Z"
   },
   {
    "duration": 106,
    "start_time": "2024-11-25T10:11:17.156Z"
   },
   {
    "duration": 26,
    "start_time": "2024-11-25T10:11:17.269Z"
   },
   {
    "duration": 157,
    "start_time": "2024-11-25T10:11:17.296Z"
   },
   {
    "duration": 15,
    "start_time": "2024-11-25T10:11:17.455Z"
   },
   {
    "duration": 13,
    "start_time": "2024-11-25T10:11:17.471Z"
   },
   {
    "duration": 26,
    "start_time": "2024-11-25T10:11:17.485Z"
   },
   {
    "duration": 11,
    "start_time": "2024-11-25T10:11:17.513Z"
   },
   {
    "duration": 5,
    "start_time": "2024-11-25T10:11:17.527Z"
   },
   {
    "duration": 38,
    "start_time": "2024-11-25T10:11:17.534Z"
   },
   {
    "duration": 7,
    "start_time": "2024-11-25T10:11:17.574Z"
   },
   {
    "duration": 9,
    "start_time": "2024-11-25T10:11:17.583Z"
   },
   {
    "duration": 5,
    "start_time": "2024-11-25T10:11:17.593Z"
   },
   {
    "duration": 7,
    "start_time": "2024-11-25T10:11:17.599Z"
   },
   {
    "duration": 5,
    "start_time": "2024-11-25T10:11:17.608Z"
   },
   {
    "duration": 3,
    "start_time": "2024-11-25T10:11:17.615Z"
   },
   {
    "duration": 6,
    "start_time": "2024-11-25T10:11:17.620Z"
   },
   {
    "duration": 50,
    "start_time": "2024-11-25T10:11:17.628Z"
   },
   {
    "duration": 286,
    "start_time": "2024-11-25T10:11:17.680Z"
   },
   {
    "duration": 1170,
    "start_time": "2024-11-25T10:11:17.969Z"
   },
   {
    "duration": 30,
    "start_time": "2024-11-25T10:11:19.141Z"
   },
   {
    "duration": 160,
    "start_time": "2024-11-25T10:11:19.172Z"
   },
   {
    "duration": 15,
    "start_time": "2024-11-25T10:11:19.334Z"
   },
   {
    "duration": 140,
    "start_time": "2024-11-25T10:11:19.350Z"
   },
   {
    "duration": 94,
    "start_time": "2024-11-25T10:11:19.491Z"
   },
   {
    "duration": 98,
    "start_time": "2024-11-25T10:11:19.587Z"
   },
   {
    "duration": 140,
    "start_time": "2024-11-25T10:11:19.689Z"
   },
   {
    "duration": 24,
    "start_time": "2024-11-25T10:11:19.830Z"
   },
   {
    "duration": 14,
    "start_time": "2024-11-25T10:11:19.857Z"
   },
   {
    "duration": 10,
    "start_time": "2024-11-25T10:11:19.872Z"
   },
   {
    "duration": 1017,
    "start_time": "2024-11-25T10:11:19.883Z"
   },
   {
    "duration": 17,
    "start_time": "2024-11-25T10:11:20.902Z"
   },
   {
    "duration": 170,
    "start_time": "2024-11-25T10:11:20.920Z"
   },
   {
    "duration": 126,
    "start_time": "2024-11-25T10:11:21.091Z"
   },
   {
    "duration": 208,
    "start_time": "2024-11-25T10:11:21.219Z"
   },
   {
    "duration": 184,
    "start_time": "2024-11-25T10:11:21.429Z"
   },
   {
    "duration": 1025,
    "start_time": "2024-11-25T10:12:00.655Z"
   },
   {
    "duration": 934,
    "start_time": "2024-11-25T10:12:22.758Z"
   },
   {
    "duration": 814,
    "start_time": "2024-11-25T10:12:42.066Z"
   },
   {
    "duration": 325,
    "start_time": "2024-11-25T10:12:42.882Z"
   },
   {
    "duration": 100,
    "start_time": "2024-11-25T10:12:43.208Z"
   },
   {
    "duration": 25,
    "start_time": "2024-11-25T10:12:43.310Z"
   },
   {
    "duration": 155,
    "start_time": "2024-11-25T10:12:43.338Z"
   },
   {
    "duration": 8,
    "start_time": "2024-11-25T10:12:43.495Z"
   },
   {
    "duration": 12,
    "start_time": "2024-11-25T10:12:43.505Z"
   },
   {
    "duration": 26,
    "start_time": "2024-11-25T10:12:43.519Z"
   },
   {
    "duration": 31,
    "start_time": "2024-11-25T10:12:43.546Z"
   },
   {
    "duration": 5,
    "start_time": "2024-11-25T10:12:43.579Z"
   },
   {
    "duration": 10,
    "start_time": "2024-11-25T10:12:43.586Z"
   },
   {
    "duration": 7,
    "start_time": "2024-11-25T10:12:43.597Z"
   },
   {
    "duration": 9,
    "start_time": "2024-11-25T10:12:43.605Z"
   },
   {
    "duration": 6,
    "start_time": "2024-11-25T10:12:43.617Z"
   },
   {
    "duration": 7,
    "start_time": "2024-11-25T10:12:43.624Z"
   },
   {
    "duration": 41,
    "start_time": "2024-11-25T10:12:43.633Z"
   },
   {
    "duration": 3,
    "start_time": "2024-11-25T10:12:43.675Z"
   },
   {
    "duration": 7,
    "start_time": "2024-11-25T10:12:43.680Z"
   },
   {
    "duration": 9,
    "start_time": "2024-11-25T10:12:43.689Z"
   },
   {
    "duration": 297,
    "start_time": "2024-11-25T10:12:43.700Z"
   },
   {
    "duration": 1201,
    "start_time": "2024-11-25T10:12:43.999Z"
   },
   {
    "duration": 24,
    "start_time": "2024-11-25T10:12:45.202Z"
   },
   {
    "duration": 166,
    "start_time": "2024-11-25T10:12:45.228Z"
   },
   {
    "duration": 13,
    "start_time": "2024-11-25T10:12:45.396Z"
   },
   {
    "duration": 145,
    "start_time": "2024-11-25T10:12:45.411Z"
   },
   {
    "duration": 91,
    "start_time": "2024-11-25T10:12:45.557Z"
   },
   {
    "duration": 99,
    "start_time": "2024-11-25T10:12:45.649Z"
   },
   {
    "duration": 138,
    "start_time": "2024-11-25T10:12:45.750Z"
   },
   {
    "duration": 24,
    "start_time": "2024-11-25T10:12:45.891Z"
   },
   {
    "duration": 3,
    "start_time": "2024-11-25T10:12:45.916Z"
   },
   {
    "duration": 10,
    "start_time": "2024-11-25T10:12:45.921Z"
   },
   {
    "duration": 647,
    "start_time": "2024-11-25T10:12:45.933Z"
   },
   {
    "duration": 0,
    "start_time": "2024-11-25T10:12:46.581Z"
   },
   {
    "duration": 0,
    "start_time": "2024-11-25T10:12:46.582Z"
   },
   {
    "duration": 0,
    "start_time": "2024-11-25T10:12:46.584Z"
   },
   {
    "duration": 0,
    "start_time": "2024-11-25T10:12:46.586Z"
   },
   {
    "duration": 0,
    "start_time": "2024-11-25T10:12:46.587Z"
   },
   {
    "duration": 94,
    "start_time": "2024-11-25T10:15:17.130Z"
   },
   {
    "duration": 85,
    "start_time": "2024-11-25T10:15:30.050Z"
   },
   {
    "duration": 10,
    "start_time": "2024-11-25T10:15:41.947Z"
   },
   {
    "duration": 82,
    "start_time": "2024-11-25T10:15:44.162Z"
   },
   {
    "duration": 2,
    "start_time": "2024-11-25T10:16:19.082Z"
   },
   {
    "duration": 340,
    "start_time": "2024-11-25T10:16:19.306Z"
   },
   {
    "duration": 106,
    "start_time": "2024-11-25T10:16:19.648Z"
   },
   {
    "duration": 25,
    "start_time": "2024-11-25T10:16:19.756Z"
   },
   {
    "duration": 131,
    "start_time": "2024-11-25T10:16:19.928Z"
   },
   {
    "duration": 9,
    "start_time": "2024-11-25T10:16:20.078Z"
   },
   {
    "duration": 12,
    "start_time": "2024-11-25T10:16:20.233Z"
   },
   {
    "duration": 25,
    "start_time": "2024-11-25T10:16:20.384Z"
   },
   {
    "duration": 12,
    "start_time": "2024-11-25T10:16:20.540Z"
   },
   {
    "duration": 6,
    "start_time": "2024-11-25T10:16:20.689Z"
   },
   {
    "duration": 10,
    "start_time": "2024-11-25T10:16:20.852Z"
   },
   {
    "duration": 8,
    "start_time": "2024-11-25T10:16:20.992Z"
   },
   {
    "duration": 9,
    "start_time": "2024-11-25T10:16:21.126Z"
   },
   {
    "duration": 6,
    "start_time": "2024-11-25T10:16:21.287Z"
   },
   {
    "duration": 8,
    "start_time": "2024-11-25T10:16:21.428Z"
   },
   {
    "duration": 8,
    "start_time": "2024-11-25T10:16:21.565Z"
   },
   {
    "duration": 4,
    "start_time": "2024-11-25T10:16:21.711Z"
   },
   {
    "duration": 7,
    "start_time": "2024-11-25T10:16:21.862Z"
   },
   {
    "duration": 11,
    "start_time": "2024-11-25T10:16:22.013Z"
   },
   {
    "duration": 252,
    "start_time": "2024-11-25T10:16:24.590Z"
   },
   {
    "duration": 1214,
    "start_time": "2024-11-25T10:16:26.137Z"
   },
   {
    "duration": 820,
    "start_time": "2024-11-25T10:16:35.708Z"
   },
   {
    "duration": 354,
    "start_time": "2024-11-25T10:16:36.531Z"
   },
   {
    "duration": 116,
    "start_time": "2024-11-25T10:16:36.888Z"
   },
   {
    "duration": 26,
    "start_time": "2024-11-25T10:16:37.007Z"
   },
   {
    "duration": 179,
    "start_time": "2024-11-25T10:16:37.035Z"
   },
   {
    "duration": 10,
    "start_time": "2024-11-25T10:16:37.215Z"
   },
   {
    "duration": 13,
    "start_time": "2024-11-25T10:16:37.226Z"
   },
   {
    "duration": 43,
    "start_time": "2024-11-25T10:16:37.241Z"
   },
   {
    "duration": 12,
    "start_time": "2024-11-25T10:16:37.285Z"
   },
   {
    "duration": 6,
    "start_time": "2024-11-25T10:16:37.300Z"
   },
   {
    "duration": 11,
    "start_time": "2024-11-25T10:16:37.307Z"
   },
   {
    "duration": 9,
    "start_time": "2024-11-25T10:16:37.319Z"
   },
   {
    "duration": 11,
    "start_time": "2024-11-25T10:16:37.329Z"
   },
   {
    "duration": 6,
    "start_time": "2024-11-25T10:16:37.371Z"
   },
   {
    "duration": 8,
    "start_time": "2024-11-25T10:16:37.378Z"
   },
   {
    "duration": 6,
    "start_time": "2024-11-25T10:16:37.387Z"
   },
   {
    "duration": 3,
    "start_time": "2024-11-25T10:16:37.395Z"
   },
   {
    "duration": 7,
    "start_time": "2024-11-25T10:16:37.400Z"
   },
   {
    "duration": 10,
    "start_time": "2024-11-25T10:16:37.409Z"
   },
   {
    "duration": 327,
    "start_time": "2024-11-25T10:16:37.421Z"
   },
   {
    "duration": 1230,
    "start_time": "2024-11-25T10:16:37.750Z"
   },
   {
    "duration": 24,
    "start_time": "2024-11-25T10:16:38.982Z"
   },
   {
    "duration": 166,
    "start_time": "2024-11-25T10:16:39.008Z"
   },
   {
    "duration": 14,
    "start_time": "2024-11-25T10:16:39.176Z"
   },
   {
    "duration": 143,
    "start_time": "2024-11-25T10:16:39.191Z"
   },
   {
    "duration": 97,
    "start_time": "2024-11-25T10:16:39.336Z"
   },
   {
    "duration": 96,
    "start_time": "2024-11-25T10:16:39.436Z"
   },
   {
    "duration": 141,
    "start_time": "2024-11-25T10:16:39.535Z"
   },
   {
    "duration": 24,
    "start_time": "2024-11-25T10:16:39.678Z"
   },
   {
    "duration": 4,
    "start_time": "2024-11-25T10:16:39.703Z"
   },
   {
    "duration": 10,
    "start_time": "2024-11-25T10:16:39.708Z"
   },
   {
    "duration": 622,
    "start_time": "2024-11-25T10:16:39.720Z"
   },
   {
    "duration": 0,
    "start_time": "2024-11-25T10:16:40.344Z"
   },
   {
    "duration": 0,
    "start_time": "2024-11-25T10:16:40.345Z"
   },
   {
    "duration": 0,
    "start_time": "2024-11-25T10:16:40.347Z"
   },
   {
    "duration": 0,
    "start_time": "2024-11-25T10:16:40.348Z"
   },
   {
    "duration": 0,
    "start_time": "2024-11-25T10:16:40.349Z"
   },
   {
    "duration": 1020,
    "start_time": "2024-11-25T10:17:31.395Z"
   },
   {
    "duration": 1006,
    "start_time": "2024-11-25T10:19:28.489Z"
   },
   {
    "duration": 785,
    "start_time": "2024-11-25T10:19:42.751Z"
   },
   {
    "duration": 328,
    "start_time": "2024-11-25T10:19:43.538Z"
   },
   {
    "duration": 105,
    "start_time": "2024-11-25T10:19:43.868Z"
   },
   {
    "duration": 24,
    "start_time": "2024-11-25T10:19:43.975Z"
   },
   {
    "duration": 152,
    "start_time": "2024-11-25T10:19:44.002Z"
   },
   {
    "duration": 18,
    "start_time": "2024-11-25T10:19:44.155Z"
   },
   {
    "duration": 12,
    "start_time": "2024-11-25T10:19:44.175Z"
   },
   {
    "duration": 26,
    "start_time": "2024-11-25T10:19:44.188Z"
   },
   {
    "duration": 11,
    "start_time": "2024-11-25T10:19:44.216Z"
   },
   {
    "duration": 5,
    "start_time": "2024-11-25T10:19:44.228Z"
   },
   {
    "duration": 36,
    "start_time": "2024-11-25T10:19:44.235Z"
   },
   {
    "duration": 7,
    "start_time": "2024-11-25T10:19:44.272Z"
   },
   {
    "duration": 9,
    "start_time": "2024-11-25T10:19:44.281Z"
   },
   {
    "duration": 5,
    "start_time": "2024-11-25T10:19:44.294Z"
   },
   {
    "duration": 7,
    "start_time": "2024-11-25T10:19:44.301Z"
   },
   {
    "duration": 5,
    "start_time": "2024-11-25T10:19:44.310Z"
   },
   {
    "duration": 3,
    "start_time": "2024-11-25T10:19:44.316Z"
   },
   {
    "duration": 6,
    "start_time": "2024-11-25T10:19:44.321Z"
   },
   {
    "duration": 49,
    "start_time": "2024-11-25T10:19:44.329Z"
   },
   {
    "duration": 298,
    "start_time": "2024-11-25T10:19:44.380Z"
   },
   {
    "duration": 1194,
    "start_time": "2024-11-25T10:19:44.680Z"
   },
   {
    "duration": 25,
    "start_time": "2024-11-25T10:19:45.875Z"
   },
   {
    "duration": 171,
    "start_time": "2024-11-25T10:19:45.901Z"
   },
   {
    "duration": 14,
    "start_time": "2024-11-25T10:19:46.074Z"
   },
   {
    "duration": 139,
    "start_time": "2024-11-25T10:19:46.090Z"
   },
   {
    "duration": 97,
    "start_time": "2024-11-25T10:19:46.230Z"
   },
   {
    "duration": 96,
    "start_time": "2024-11-25T10:19:46.329Z"
   },
   {
    "duration": 154,
    "start_time": "2024-11-25T10:19:46.427Z"
   },
   {
    "duration": 24,
    "start_time": "2024-11-25T10:19:46.584Z"
   },
   {
    "duration": 3,
    "start_time": "2024-11-25T10:19:46.611Z"
   },
   {
    "duration": 13,
    "start_time": "2024-11-25T10:19:46.616Z"
   },
   {
    "duration": 652,
    "start_time": "2024-11-25T10:19:46.631Z"
   },
   {
    "duration": 0,
    "start_time": "2024-11-25T10:19:47.285Z"
   },
   {
    "duration": 0,
    "start_time": "2024-11-25T10:19:47.286Z"
   },
   {
    "duration": 0,
    "start_time": "2024-11-25T10:19:47.287Z"
   },
   {
    "duration": 0,
    "start_time": "2024-11-25T10:19:47.288Z"
   },
   {
    "duration": 0,
    "start_time": "2024-11-25T10:19:47.290Z"
   },
   {
    "duration": 81,
    "start_time": "2024-11-25T10:20:13.628Z"
   },
   {
    "duration": 11,
    "start_time": "2024-11-25T10:20:23.618Z"
   },
   {
    "duration": 84,
    "start_time": "2024-11-25T10:20:24.091Z"
   },
   {
    "duration": 812,
    "start_time": "2024-11-25T10:20:55.269Z"
   },
   {
    "duration": 325,
    "start_time": "2024-11-25T10:20:56.083Z"
   },
   {
    "duration": 114,
    "start_time": "2024-11-25T10:20:56.409Z"
   },
   {
    "duration": 37,
    "start_time": "2024-11-25T10:20:56.525Z"
   },
   {
    "duration": 149,
    "start_time": "2024-11-25T10:20:56.570Z"
   },
   {
    "duration": 9,
    "start_time": "2024-11-25T10:20:56.720Z"
   },
   {
    "duration": 12,
    "start_time": "2024-11-25T10:20:56.731Z"
   },
   {
    "duration": 44,
    "start_time": "2024-11-25T10:20:56.746Z"
   },
   {
    "duration": 12,
    "start_time": "2024-11-25T10:20:56.792Z"
   },
   {
    "duration": 7,
    "start_time": "2024-11-25T10:20:56.805Z"
   },
   {
    "duration": 10,
    "start_time": "2024-11-25T10:20:56.813Z"
   },
   {
    "duration": 6,
    "start_time": "2024-11-25T10:20:56.825Z"
   },
   {
    "duration": 15,
    "start_time": "2024-11-25T10:20:56.833Z"
   },
   {
    "duration": 32,
    "start_time": "2024-11-25T10:20:56.869Z"
   },
   {
    "duration": 13,
    "start_time": "2024-11-25T10:20:56.903Z"
   },
   {
    "duration": 6,
    "start_time": "2024-11-25T10:20:56.917Z"
   },
   {
    "duration": 5,
    "start_time": "2024-11-25T10:20:56.924Z"
   },
   {
    "duration": 7,
    "start_time": "2024-11-25T10:20:56.930Z"
   },
   {
    "duration": 10,
    "start_time": "2024-11-25T10:20:56.939Z"
   },
   {
    "duration": 298,
    "start_time": "2024-11-25T10:20:56.951Z"
   },
   {
    "duration": 1185,
    "start_time": "2024-11-25T10:20:57.251Z"
   },
   {
    "duration": 25,
    "start_time": "2024-11-25T10:20:58.437Z"
   },
   {
    "duration": 161,
    "start_time": "2024-11-25T10:20:58.470Z"
   },
   {
    "duration": 14,
    "start_time": "2024-11-25T10:20:58.632Z"
   },
   {
    "duration": 136,
    "start_time": "2024-11-25T10:20:58.648Z"
   },
   {
    "duration": 91,
    "start_time": "2024-11-25T10:20:58.786Z"
   },
   {
    "duration": 100,
    "start_time": "2024-11-25T10:20:58.879Z"
   },
   {
    "duration": 142,
    "start_time": "2024-11-25T10:20:58.981Z"
   },
   {
    "duration": 25,
    "start_time": "2024-11-25T10:20:59.124Z"
   },
   {
    "duration": 4,
    "start_time": "2024-11-25T10:20:59.150Z"
   },
   {
    "duration": 9,
    "start_time": "2024-11-25T10:20:59.170Z"
   },
   {
    "duration": 597,
    "start_time": "2024-11-25T10:20:59.181Z"
   },
   {
    "duration": 0,
    "start_time": "2024-11-25T10:20:59.780Z"
   },
   {
    "duration": 0,
    "start_time": "2024-11-25T10:20:59.781Z"
   },
   {
    "duration": 0,
    "start_time": "2024-11-25T10:20:59.782Z"
   },
   {
    "duration": 0,
    "start_time": "2024-11-25T10:20:59.783Z"
   },
   {
    "duration": 0,
    "start_time": "2024-11-25T10:20:59.784Z"
   },
   {
    "duration": 11,
    "start_time": "2024-11-25T10:21:05.476Z"
   },
   {
    "duration": 163,
    "start_time": "2024-11-25T10:21:07.870Z"
   },
   {
    "duration": 122,
    "start_time": "2024-11-25T10:21:11.520Z"
   },
   {
    "duration": 51,
    "start_time": "2024-11-25T10:23:19.660Z"
   },
   {
    "duration": 1085,
    "start_time": "2024-11-25T10:25:14.179Z"
   },
   {
    "duration": 1015,
    "start_time": "2024-11-25T10:25:23.159Z"
   },
   {
    "duration": 825,
    "start_time": "2024-11-25T10:25:36.958Z"
   },
   {
    "duration": 334,
    "start_time": "2024-11-25T10:25:37.785Z"
   },
   {
    "duration": 105,
    "start_time": "2024-11-25T10:25:38.121Z"
   },
   {
    "duration": 25,
    "start_time": "2024-11-25T10:25:38.229Z"
   },
   {
    "duration": 158,
    "start_time": "2024-11-25T10:25:38.256Z"
   },
   {
    "duration": 10,
    "start_time": "2024-11-25T10:25:38.416Z"
   },
   {
    "duration": 12,
    "start_time": "2024-11-25T10:25:38.429Z"
   },
   {
    "duration": 39,
    "start_time": "2024-11-25T10:25:38.444Z"
   },
   {
    "duration": 12,
    "start_time": "2024-11-25T10:25:38.484Z"
   },
   {
    "duration": 5,
    "start_time": "2024-11-25T10:25:38.500Z"
   },
   {
    "duration": 10,
    "start_time": "2024-11-25T10:25:38.507Z"
   },
   {
    "duration": 7,
    "start_time": "2024-11-25T10:25:38.519Z"
   },
   {
    "duration": 10,
    "start_time": "2024-11-25T10:25:38.527Z"
   },
   {
    "duration": 5,
    "start_time": "2024-11-25T10:25:38.570Z"
   },
   {
    "duration": 8,
    "start_time": "2024-11-25T10:25:38.576Z"
   },
   {
    "duration": 5,
    "start_time": "2024-11-25T10:25:38.585Z"
   },
   {
    "duration": 3,
    "start_time": "2024-11-25T10:25:38.592Z"
   },
   {
    "duration": 7,
    "start_time": "2024-11-25T10:25:38.597Z"
   },
   {
    "duration": 9,
    "start_time": "2024-11-25T10:25:38.605Z"
   },
   {
    "duration": 310,
    "start_time": "2024-11-25T10:25:38.615Z"
   },
   {
    "duration": 1194,
    "start_time": "2024-11-25T10:25:38.926Z"
   },
   {
    "duration": 25,
    "start_time": "2024-11-25T10:25:40.122Z"
   },
   {
    "duration": 166,
    "start_time": "2024-11-25T10:25:40.148Z"
   },
   {
    "duration": 15,
    "start_time": "2024-11-25T10:25:40.316Z"
   },
   {
    "duration": 146,
    "start_time": "2024-11-25T10:25:40.333Z"
   },
   {
    "duration": 90,
    "start_time": "2024-11-25T10:25:40.481Z"
   },
   {
    "duration": 99,
    "start_time": "2024-11-25T10:25:40.573Z"
   },
   {
    "duration": 142,
    "start_time": "2024-11-25T10:25:40.676Z"
   },
   {
    "duration": 24,
    "start_time": "2024-11-25T10:25:40.820Z"
   },
   {
    "duration": 3,
    "start_time": "2024-11-25T10:25:40.846Z"
   },
   {
    "duration": 27,
    "start_time": "2024-11-25T10:25:40.851Z"
   },
   {
    "duration": 1034,
    "start_time": "2024-11-25T10:25:40.880Z"
   },
   {
    "duration": 12,
    "start_time": "2024-11-25T10:25:41.916Z"
   },
   {
    "duration": 172,
    "start_time": "2024-11-25T10:25:41.929Z"
   },
   {
    "duration": 130,
    "start_time": "2024-11-25T10:25:42.103Z"
   },
   {
    "duration": 207,
    "start_time": "2024-11-25T10:25:42.235Z"
   },
   {
    "duration": 175,
    "start_time": "2024-11-25T10:25:42.443Z"
   },
   {
    "duration": 1080,
    "start_time": "2024-11-25T10:27:11.010Z"
   },
   {
    "duration": 821,
    "start_time": "2024-11-25T10:27:21.511Z"
   },
   {
    "duration": 317,
    "start_time": "2024-11-25T10:27:22.334Z"
   },
   {
    "duration": 109,
    "start_time": "2024-11-25T10:27:22.653Z"
   },
   {
    "duration": 29,
    "start_time": "2024-11-25T10:27:22.765Z"
   },
   {
    "duration": 152,
    "start_time": "2024-11-25T10:27:22.795Z"
   },
   {
    "duration": 9,
    "start_time": "2024-11-25T10:27:22.949Z"
   },
   {
    "duration": 22,
    "start_time": "2024-11-25T10:27:22.959Z"
   },
   {
    "duration": 27,
    "start_time": "2024-11-25T10:27:22.982Z"
   },
   {
    "duration": 12,
    "start_time": "2024-11-25T10:27:23.010Z"
   },
   {
    "duration": 5,
    "start_time": "2024-11-25T10:27:23.025Z"
   },
   {
    "duration": 38,
    "start_time": "2024-11-25T10:27:23.032Z"
   },
   {
    "duration": 7,
    "start_time": "2024-11-25T10:27:23.071Z"
   },
   {
    "duration": 9,
    "start_time": "2024-11-25T10:27:23.080Z"
   },
   {
    "duration": 5,
    "start_time": "2024-11-25T10:27:23.090Z"
   },
   {
    "duration": 6,
    "start_time": "2024-11-25T10:27:23.097Z"
   },
   {
    "duration": 5,
    "start_time": "2024-11-25T10:27:23.105Z"
   },
   {
    "duration": 3,
    "start_time": "2024-11-25T10:27:23.112Z"
   },
   {
    "duration": 7,
    "start_time": "2024-11-25T10:27:23.117Z"
   },
   {
    "duration": 46,
    "start_time": "2024-11-25T10:27:23.126Z"
   },
   {
    "duration": 296,
    "start_time": "2024-11-25T10:27:23.174Z"
   },
   {
    "duration": 1202,
    "start_time": "2024-11-25T10:27:23.472Z"
   },
   {
    "duration": 24,
    "start_time": "2024-11-25T10:27:24.676Z"
   },
   {
    "duration": 174,
    "start_time": "2024-11-25T10:27:24.702Z"
   },
   {
    "duration": 14,
    "start_time": "2024-11-25T10:27:24.878Z"
   },
   {
    "duration": 139,
    "start_time": "2024-11-25T10:27:24.894Z"
   },
   {
    "duration": 96,
    "start_time": "2024-11-25T10:27:25.035Z"
   },
   {
    "duration": 94,
    "start_time": "2024-11-25T10:27:25.133Z"
   },
   {
    "duration": 145,
    "start_time": "2024-11-25T10:27:25.231Z"
   },
   {
    "duration": 24,
    "start_time": "2024-11-25T10:27:25.377Z"
   },
   {
    "duration": 3,
    "start_time": "2024-11-25T10:27:25.402Z"
   },
   {
    "duration": 9,
    "start_time": "2024-11-25T10:27:25.407Z"
   },
   {
    "duration": 1041,
    "start_time": "2024-11-25T10:27:25.418Z"
   },
   {
    "duration": 20,
    "start_time": "2024-11-25T10:27:26.469Z"
   },
   {
    "duration": 227,
    "start_time": "2024-11-25T10:27:26.492Z"
   },
   {
    "duration": 144,
    "start_time": "2024-11-25T10:27:26.722Z"
   },
   {
    "duration": 226,
    "start_time": "2024-11-25T10:27:26.868Z"
   },
   {
    "duration": 179,
    "start_time": "2024-11-25T10:27:27.096Z"
   },
   {
    "duration": 831,
    "start_time": "2024-11-25T10:30:33.726Z"
   },
   {
    "duration": 362,
    "start_time": "2024-11-25T10:30:34.559Z"
   },
   {
    "duration": 95,
    "start_time": "2024-11-25T10:30:34.923Z"
   },
   {
    "duration": 26,
    "start_time": "2024-11-25T10:30:35.020Z"
   },
   {
    "duration": 156,
    "start_time": "2024-11-25T10:30:35.048Z"
   },
   {
    "duration": 10,
    "start_time": "2024-11-25T10:30:35.206Z"
   },
   {
    "duration": 12,
    "start_time": "2024-11-25T10:30:35.218Z"
   },
   {
    "duration": 44,
    "start_time": "2024-11-25T10:30:35.232Z"
   },
   {
    "duration": 12,
    "start_time": "2024-11-25T10:30:35.277Z"
   },
   {
    "duration": 5,
    "start_time": "2024-11-25T10:30:35.292Z"
   },
   {
    "duration": 9,
    "start_time": "2024-11-25T10:30:35.299Z"
   },
   {
    "duration": 7,
    "start_time": "2024-11-25T10:30:35.310Z"
   },
   {
    "duration": 10,
    "start_time": "2024-11-25T10:30:35.318Z"
   },
   {
    "duration": 6,
    "start_time": "2024-11-25T10:30:35.330Z"
   },
   {
    "duration": 7,
    "start_time": "2024-11-25T10:30:35.370Z"
   },
   {
    "duration": 6,
    "start_time": "2024-11-25T10:30:35.380Z"
   },
   {
    "duration": 3,
    "start_time": "2024-11-25T10:30:35.387Z"
   },
   {
    "duration": 7,
    "start_time": "2024-11-25T10:30:35.392Z"
   },
   {
    "duration": 10,
    "start_time": "2024-11-25T10:30:35.400Z"
   },
   {
    "duration": 318,
    "start_time": "2024-11-25T10:30:35.412Z"
   },
   {
    "duration": 1221,
    "start_time": "2024-11-25T10:30:35.731Z"
   },
   {
    "duration": 32,
    "start_time": "2024-11-25T10:30:36.956Z"
   },
   {
    "duration": 176,
    "start_time": "2024-11-25T10:30:36.990Z"
   },
   {
    "duration": 20,
    "start_time": "2024-11-25T10:30:37.170Z"
   },
   {
    "duration": 143,
    "start_time": "2024-11-25T10:30:37.194Z"
   },
   {
    "duration": 95,
    "start_time": "2024-11-25T10:30:37.339Z"
   },
   {
    "duration": 104,
    "start_time": "2024-11-25T10:30:37.436Z"
   },
   {
    "duration": 144,
    "start_time": "2024-11-25T10:30:37.544Z"
   },
   {
    "duration": 24,
    "start_time": "2024-11-25T10:30:37.691Z"
   },
   {
    "duration": 5,
    "start_time": "2024-11-25T10:30:37.716Z"
   },
   {
    "duration": 16,
    "start_time": "2024-11-25T10:30:37.722Z"
   },
   {
    "duration": 1051,
    "start_time": "2024-11-25T10:30:37.740Z"
   },
   {
    "duration": 12,
    "start_time": "2024-11-25T10:30:38.793Z"
   },
   {
    "duration": 172,
    "start_time": "2024-11-25T10:30:38.807Z"
   },
   {
    "duration": 127,
    "start_time": "2024-11-25T10:30:38.980Z"
   },
   {
    "duration": 212,
    "start_time": "2024-11-25T10:30:39.109Z"
   },
   {
    "duration": 174,
    "start_time": "2024-11-25T10:30:39.323Z"
   },
   {
    "duration": 8,
    "start_time": "2024-11-26T02:44:11.498Z"
   },
   {
    "duration": 158,
    "start_time": "2024-11-26T02:44:33.041Z"
   },
   {
    "duration": 13,
    "start_time": "2024-11-26T02:44:45.901Z"
   },
   {
    "duration": 2604,
    "start_time": "2024-11-26T02:44:54.270Z"
   },
   {
    "duration": 361,
    "start_time": "2024-11-26T02:44:56.876Z"
   },
   {
    "duration": 103,
    "start_time": "2024-11-26T02:44:57.239Z"
   },
   {
    "duration": 27,
    "start_time": "2024-11-26T02:44:57.345Z"
   },
   {
    "duration": 154,
    "start_time": "2024-11-26T02:44:57.374Z"
   },
   {
    "duration": 18,
    "start_time": "2024-11-26T02:44:57.529Z"
   },
   {
    "duration": 13,
    "start_time": "2024-11-26T02:44:57.548Z"
   },
   {
    "duration": 46,
    "start_time": "2024-11-26T02:44:57.562Z"
   },
   {
    "duration": 11,
    "start_time": "2024-11-26T02:44:57.609Z"
   },
   {
    "duration": 5,
    "start_time": "2024-11-26T02:44:57.622Z"
   },
   {
    "duration": 18,
    "start_time": "2024-11-26T02:44:57.629Z"
   },
   {
    "duration": 7,
    "start_time": "2024-11-26T02:44:57.649Z"
   },
   {
    "duration": 12,
    "start_time": "2024-11-26T02:44:57.657Z"
   },
   {
    "duration": 8,
    "start_time": "2024-11-26T02:44:57.673Z"
   },
   {
    "duration": 7,
    "start_time": "2024-11-26T02:44:57.683Z"
   },
   {
    "duration": 6,
    "start_time": "2024-11-26T02:44:57.692Z"
   },
   {
    "duration": 4,
    "start_time": "2024-11-26T02:44:57.699Z"
   },
   {
    "duration": 45,
    "start_time": "2024-11-26T02:44:57.704Z"
   },
   {
    "duration": 10,
    "start_time": "2024-11-26T02:44:57.751Z"
   },
   {
    "duration": 287,
    "start_time": "2024-11-26T02:44:57.763Z"
   },
   {
    "duration": 1171,
    "start_time": "2024-11-26T02:44:58.053Z"
   },
   {
    "duration": 29,
    "start_time": "2024-11-26T02:44:59.226Z"
   },
   {
    "duration": 232,
    "start_time": "2024-11-26T02:44:59.256Z"
   },
   {
    "duration": 15,
    "start_time": "2024-11-26T02:44:59.490Z"
   },
   {
    "duration": 144,
    "start_time": "2024-11-26T02:44:59.507Z"
   },
   {
    "duration": 95,
    "start_time": "2024-11-26T02:44:59.653Z"
   },
   {
    "duration": 101,
    "start_time": "2024-11-26T02:44:59.750Z"
   },
   {
    "duration": 147,
    "start_time": "2024-11-26T02:44:59.853Z"
   },
   {
    "duration": 24,
    "start_time": "2024-11-26T02:45:00.002Z"
   },
   {
    "duration": 25,
    "start_time": "2024-11-26T02:45:00.027Z"
   },
   {
    "duration": 14,
    "start_time": "2024-11-26T02:45:00.053Z"
   },
   {
    "duration": 1067,
    "start_time": "2024-11-26T02:45:00.069Z"
   },
   {
    "duration": 15,
    "start_time": "2024-11-26T02:45:01.138Z"
   },
   {
    "duration": 177,
    "start_time": "2024-11-26T02:45:01.155Z"
   },
   {
    "duration": 131,
    "start_time": "2024-11-26T02:45:01.335Z"
   },
   {
    "duration": 204,
    "start_time": "2024-11-26T02:45:01.468Z"
   },
   {
    "duration": 169,
    "start_time": "2024-11-26T02:45:01.674Z"
   },
   {
    "duration": 1141,
    "start_time": "2024-11-26T02:48:00.625Z"
   },
   {
    "duration": 1012,
    "start_time": "2024-11-26T02:50:03.679Z"
   },
   {
    "duration": 1145,
    "start_time": "2024-11-26T02:53:00.019Z"
   },
   {
    "duration": 1031,
    "start_time": "2024-11-26T02:57:01.516Z"
   },
   {
    "duration": 1093,
    "start_time": "2024-11-26T02:57:24.398Z"
   },
   {
    "duration": 1161,
    "start_time": "2024-11-26T02:58:32.564Z"
   },
   {
    "duration": 362,
    "start_time": "2024-11-26T02:59:47.597Z"
   },
   {
    "duration": 154,
    "start_time": "2024-11-26T03:01:34.129Z"
   },
   {
    "duration": 2310,
    "start_time": "2024-11-26T03:03:47.960Z"
   },
   {
    "duration": 2266,
    "start_time": "2024-11-26T03:05:58.768Z"
   },
   {
    "duration": 17,
    "start_time": "2024-11-26T03:09:31.322Z"
   },
   {
    "duration": 17,
    "start_time": "2024-11-26T03:10:51.040Z"
   },
   {
    "duration": 131,
    "start_time": "2024-11-26T03:11:15.624Z"
   },
   {
    "duration": 35,
    "start_time": "2024-11-26T03:11:30.103Z"
   },
   {
    "duration": 17,
    "start_time": "2024-11-26T03:11:46.549Z"
   },
   {
    "duration": 308,
    "start_time": "2024-11-26T03:13:01.115Z"
   },
   {
    "duration": 399,
    "start_time": "2024-11-26T03:17:24.913Z"
   },
   {
    "duration": 156,
    "start_time": "2024-11-26T03:20:21.344Z"
   },
   {
    "duration": 151,
    "start_time": "2024-11-26T03:21:49.278Z"
   },
   {
    "duration": 264,
    "start_time": "2024-11-26T03:28:44.908Z"
   },
   {
    "duration": 387,
    "start_time": "2024-11-26T03:29:19.975Z"
   },
   {
    "duration": 278,
    "start_time": "2024-11-26T03:33:57.201Z"
   },
   {
    "duration": 501,
    "start_time": "2024-11-26T03:34:50.911Z"
   },
   {
    "duration": 217,
    "start_time": "2024-11-26T03:37:21.699Z"
   },
   {
    "duration": 3,
    "start_time": "2024-11-26T03:39:47.929Z"
   },
   {
    "duration": 20,
    "start_time": "2024-11-26T03:40:09.865Z"
   },
   {
    "duration": 41,
    "start_time": "2024-11-26T03:42:02.412Z"
   },
   {
    "duration": 47,
    "start_time": "2024-11-26T03:42:53.354Z"
   },
   {
    "duration": 44,
    "start_time": "2024-11-26T03:43:08.879Z"
   },
   {
    "duration": 312,
    "start_time": "2024-11-26T03:49:18.736Z"
   },
   {
    "duration": 151,
    "start_time": "2024-11-26T04:02:17.725Z"
   },
   {
    "duration": 81,
    "start_time": "2024-11-26T04:02:31.169Z"
   },
   {
    "duration": 816,
    "start_time": "2024-11-26T04:02:51.674Z"
   },
   {
    "duration": 326,
    "start_time": "2024-11-26T04:02:52.492Z"
   },
   {
    "duration": 113,
    "start_time": "2024-11-26T04:02:52.820Z"
   },
   {
    "duration": 38,
    "start_time": "2024-11-26T04:02:52.935Z"
   },
   {
    "duration": 151,
    "start_time": "2024-11-26T04:02:52.974Z"
   },
   {
    "duration": 15,
    "start_time": "2024-11-26T04:02:53.128Z"
   },
   {
    "duration": 12,
    "start_time": "2024-11-26T04:02:53.145Z"
   },
   {
    "duration": 27,
    "start_time": "2024-11-26T04:02:53.159Z"
   },
   {
    "duration": 11,
    "start_time": "2024-11-26T04:02:53.188Z"
   },
   {
    "duration": 5,
    "start_time": "2024-11-26T04:02:53.203Z"
   },
   {
    "duration": 34,
    "start_time": "2024-11-26T04:02:53.210Z"
   },
   {
    "duration": 8,
    "start_time": "2024-11-26T04:02:53.246Z"
   },
   {
    "duration": 11,
    "start_time": "2024-11-26T04:02:53.255Z"
   },
   {
    "duration": 6,
    "start_time": "2024-11-26T04:02:53.267Z"
   },
   {
    "duration": 7,
    "start_time": "2024-11-26T04:02:53.274Z"
   },
   {
    "duration": 5,
    "start_time": "2024-11-26T04:02:53.283Z"
   },
   {
    "duration": 4,
    "start_time": "2024-11-26T04:02:53.290Z"
   },
   {
    "duration": 7,
    "start_time": "2024-11-26T04:02:53.295Z"
   },
   {
    "duration": 10,
    "start_time": "2024-11-26T04:02:53.343Z"
   },
   {
    "duration": 289,
    "start_time": "2024-11-26T04:02:53.355Z"
   },
   {
    "duration": 1229,
    "start_time": "2024-11-26T04:02:53.647Z"
   },
   {
    "duration": 24,
    "start_time": "2024-11-26T04:02:54.878Z"
   },
   {
    "duration": 171,
    "start_time": "2024-11-26T04:02:54.905Z"
   },
   {
    "duration": 14,
    "start_time": "2024-11-26T04:02:55.078Z"
   },
   {
    "duration": 149,
    "start_time": "2024-11-26T04:02:55.094Z"
   },
   {
    "duration": 86,
    "start_time": "2024-11-26T04:02:55.245Z"
   },
   {
    "duration": 110,
    "start_time": "2024-11-26T04:02:55.332Z"
   },
   {
    "duration": 143,
    "start_time": "2024-11-26T04:02:55.447Z"
   },
   {
    "duration": 24,
    "start_time": "2024-11-26T04:02:55.592Z"
   },
   {
    "duration": 3,
    "start_time": "2024-11-26T04:02:55.617Z"
   },
   {
    "duration": 26,
    "start_time": "2024-11-26T04:02:55.622Z"
   },
   {
    "duration": 604,
    "start_time": "2024-11-26T04:02:55.650Z"
   },
   {
    "duration": 0,
    "start_time": "2024-11-26T04:02:56.255Z"
   },
   {
    "duration": 0,
    "start_time": "2024-11-26T04:02:56.257Z"
   },
   {
    "duration": 0,
    "start_time": "2024-11-26T04:02:56.258Z"
   },
   {
    "duration": 0,
    "start_time": "2024-11-26T04:02:56.259Z"
   },
   {
    "duration": 0,
    "start_time": "2024-11-26T04:02:56.260Z"
   },
   {
    "duration": 59,
    "start_time": "2024-11-26T04:03:10.531Z"
   },
   {
    "duration": 54,
    "start_time": "2024-11-26T04:03:56.166Z"
   },
   {
    "duration": 833,
    "start_time": "2024-11-26T04:07:05.819Z"
   },
   {
    "duration": 336,
    "start_time": "2024-11-26T04:07:06.655Z"
   },
   {
    "duration": 109,
    "start_time": "2024-11-26T04:07:06.994Z"
   },
   {
    "duration": 26,
    "start_time": "2024-11-26T04:07:07.105Z"
   },
   {
    "duration": 158,
    "start_time": "2024-11-26T04:07:07.132Z"
   },
   {
    "duration": 10,
    "start_time": "2024-11-26T04:07:07.292Z"
   },
   {
    "duration": 12,
    "start_time": "2024-11-26T04:07:07.304Z"
   },
   {
    "duration": 43,
    "start_time": "2024-11-26T04:07:07.318Z"
   },
   {
    "duration": 11,
    "start_time": "2024-11-26T04:07:07.363Z"
   },
   {
    "duration": 5,
    "start_time": "2024-11-26T04:07:07.377Z"
   },
   {
    "duration": 10,
    "start_time": "2024-11-26T04:07:07.384Z"
   },
   {
    "duration": 8,
    "start_time": "2024-11-26T04:07:07.395Z"
   },
   {
    "duration": 37,
    "start_time": "2024-11-26T04:07:07.406Z"
   },
   {
    "duration": 6,
    "start_time": "2024-11-26T04:07:07.445Z"
   },
   {
    "duration": 7,
    "start_time": "2024-11-26T04:07:07.452Z"
   },
   {
    "duration": 6,
    "start_time": "2024-11-26T04:07:07.461Z"
   },
   {
    "duration": 3,
    "start_time": "2024-11-26T04:07:07.470Z"
   },
   {
    "duration": 7,
    "start_time": "2024-11-26T04:07:07.474Z"
   },
   {
    "duration": 10,
    "start_time": "2024-11-26T04:07:07.482Z"
   },
   {
    "duration": 320,
    "start_time": "2024-11-26T04:07:07.494Z"
   },
   {
    "duration": 1219,
    "start_time": "2024-11-26T04:07:07.816Z"
   },
   {
    "duration": 30,
    "start_time": "2024-11-26T04:07:09.036Z"
   },
   {
    "duration": 170,
    "start_time": "2024-11-26T04:07:09.068Z"
   },
   {
    "duration": 15,
    "start_time": "2024-11-26T04:07:09.243Z"
   },
   {
    "duration": 144,
    "start_time": "2024-11-26T04:07:09.260Z"
   },
   {
    "duration": 98,
    "start_time": "2024-11-26T04:07:09.407Z"
   },
   {
    "duration": 106,
    "start_time": "2024-11-26T04:07:09.507Z"
   },
   {
    "duration": 153,
    "start_time": "2024-11-26T04:07:09.617Z"
   },
   {
    "duration": 25,
    "start_time": "2024-11-26T04:07:09.772Z"
   },
   {
    "duration": 3,
    "start_time": "2024-11-26T04:07:09.799Z"
   },
   {
    "duration": 10,
    "start_time": "2024-11-26T04:07:09.803Z"
   },
   {
    "duration": 2,
    "start_time": "2024-11-26T04:07:09.815Z"
   },
   {
    "duration": 11,
    "start_time": "2024-11-26T04:07:09.843Z"
   },
   {
    "duration": 175,
    "start_time": "2024-11-26T04:07:09.856Z"
   },
   {
    "duration": 127,
    "start_time": "2024-11-26T04:07:10.033Z"
   },
   {
    "duration": 209,
    "start_time": "2024-11-26T04:07:10.162Z"
   },
   {
    "duration": 182,
    "start_time": "2024-11-26T04:07:10.373Z"
   },
   {
    "duration": 1166,
    "start_time": "2024-11-26T04:08:43.544Z"
   },
   {
    "duration": 1058,
    "start_time": "2024-11-26T04:08:55.996Z"
   },
   {
    "duration": 1065,
    "start_time": "2024-11-26T04:09:25.554Z"
   },
   {
    "duration": 1023,
    "start_time": "2024-11-26T04:09:49.321Z"
   },
   {
    "duration": 1057,
    "start_time": "2024-11-26T04:10:46.858Z"
   }
  ],
  "kernelspec": {
   "display_name": "Python 3 (ipykernel)",
   "language": "python",
   "name": "python3"
  },
  "language_info": {
   "codemirror_mode": {
    "name": "ipython",
    "version": 3
   },
   "file_extension": ".py",
   "mimetype": "text/x-python",
   "name": "python",
   "nbconvert_exporter": "python",
   "pygments_lexer": "ipython3",
   "version": "3.9.19"
  },
  "toc": {
   "base_numbering": 1,
   "nav_menu": {},
   "number_sections": true,
   "sideBar": true,
   "skip_h1_title": true,
   "title_cell": "Table of Contents",
   "title_sidebar": "Contents",
   "toc_cell": false,
   "toc_position": {},
   "toc_section_display": true,
   "toc_window_display": false
  }
 },
 "nbformat": 4,
 "nbformat_minor": 2
}
